{
 "cells": [
  {
   "cell_type": "markdown",
   "id": "11a0ec0e",
   "metadata": {},
   "source": [
    "# OrbitalElements interactive examples"
   ]
  },
  {
   "cell_type": "markdown",
   "id": "a70f664f",
   "metadata": {},
   "source": [
    "## Working environment & Packages"
   ]
  },
  {
   "cell_type": "markdown",
   "id": "8b315321",
   "metadata": {},
   "source": [
    "Set the working environment to the repository root."
   ]
  },
  {
   "cell_type": "code",
   "execution_count": null,
   "id": "ca995578",
   "metadata": {},
   "outputs": [],
   "source": [
    "using Plots\n",
    "plotlyjs();"
   ]
  },
  {
   "cell_type": "code",
   "execution_count": null,
   "id": "5a58dae7",
   "metadata": {},
   "outputs": [],
   "source": [
    "using Pkg\n",
    "Pkg.activate(@__DIR__()*\"/../.\")\n",
    "import OrbitalElements as OE"
   ]
  },
  {
   "cell_type": "markdown",
   "id": "5a32ab46",
   "metadata": {},
   "source": [
    "# Generic parameters"
   ]
  },
  {
   "cell_type": "markdown",
   "id": "2a31ebd5",
   "metadata": {},
   "source": [
    "## Potential"
   ]
  },
  {
   "cell_type": "code",
   "execution_count": null,
   "id": "cc8c139d",
   "metadata": {},
   "outputs": [],
   "source": [
    "G, M, bc = 1.0, 1.0, 1.0\n",
    "ψ(r::Float64)   = OE.ψIsochrone(r,bc,M,G)\n",
    "dψ(r::Float64)  = OE.dψIsochrone(r,bc,M,G)\n",
    "d2ψ(r::Float64) = OE.d2ψIsochrone(r,bc,M,G)\n",
    "Ω₀ = OE.Ω₀Isochrone(bc,M,G);\n",
    "\n",
    "#G = 1.0\n",
    "#R0, V0 = 20., 1.\n",
    "#ψ(r::Float64)   = OE.ψMestel(r,R0,V0)\n",
    "#dψ(r::Float64)  = OE.dψMestel(r,R0,V0)\n",
    "#d2ψ(r::Float64) = OE.d2ψMestel(r,R0,V0)\n",
    "#Ω₀ = OE.Ω₀Mestel(R0,V0);"
   ]
  },
  {
   "cell_type": "markdown",
   "id": "4be6ab38",
   "metadata": {},
   "source": [
    "## Parameters"
   ]
  },
  {
   "cell_type": "code",
   "execution_count": null,
   "id": "47e1355b",
   "metadata": {},
   "outputs": [],
   "source": [
    "# Radii for frequency truncations\n",
    "rmin, rmax = 0.1, 100.0\n",
    "# Tolerances / Taylor expansions\n",
    "EDGE = 0.01\n",
    "TOLECC = 0.01\n",
    "TOLA = 1.0\n",
    "NINT = 32\n",
    "\n",
    "const fixedparams = OE.OrbitalParameters(Ω₀=Ω₀,\n",
    "                                            rmin=rmin,rmax=rmax);\n",
    "                                            #EDGE=EDGE,TOLA=TOLA,TOLECC=TOLECC,\n",
    "                                            #NINT=NINT);"
   ]
  },
  {
   "cell_type": "markdown",
   "id": "ddd3632c",
   "metadata": {},
   "source": [
    "# Frequency computation"
   ]
  },
  {
   "cell_type": "markdown",
   "id": "860266cb",
   "metadata": {},
   "source": [
    "Frequency values along a constant eccentricity line. Example using the isochrone potential for which analytical expression of the frequencies are known. Comparing analytical and numerical results."
   ]
  },
  {
   "cell_type": "code",
   "execution_count": null,
   "id": "495e8e9f",
   "metadata": {},
   "outputs": [],
   "source": [
    "function FrequenciesE!(a::Float64,\n",
    "                      tabe::Vector{Float64},\n",
    "                      results::Array{Float64})\n",
    "    @assert size(results) == (2,length(tabe))\n",
    "    for j=1:ne\n",
    "        Ω1, Ω2 = OE.ComputeFrequenciesAE(ψ,dψ,d2ψ,a,tabe[j],fixedparams)\n",
    "        @inbounds results[1,j], results[2,j] = Ω1, Ω2\n",
    "    end\n",
    "end;\n",
    "function IsochroneFrequenciesE!(a::Float64,\n",
    "                      tabe::Vector{Float64},\n",
    "                      results::Array{Float64})\n",
    "    @assert size(results) == (2,length(tabe))\n",
    "    for j=1:ne\n",
    "        Ω1true, Ω2true = OE.IsochroneOmega12FromAE(a,tabe[j])\n",
    "        @inbounds results[1,j], results[2,j] = Ω1true, Ω2true\n",
    "    end\n",
    "end;"
   ]
  },
  {
   "cell_type": "code",
   "execution_count": null,
   "id": "ff2c25ba",
   "metadata": {},
   "outputs": [],
   "source": [
    "ne = 100;\n",
    "tabe = collect(LinRange(0.,1.,ne));\n",
    "tabΩ = zeros(2,ne);\n",
    "tabΩIso = zeros(2,ne);"
   ]
  },
  {
   "cell_type": "code",
   "execution_count": null,
   "id": "1031786c",
   "metadata": {},
   "outputs": [],
   "source": [
    "a = 1.0\n",
    "\n",
    "# Compute\n",
    "FrequenciesE!(a,tabe,tabΩ)\n",
    "IsochroneFrequenciesE!(a,tabe,tabΩIso)\n",
    "\n",
    "# Plot\n",
    "xlabelΩ = [\"e\" \"e\"]\n",
    "ylabelΩ = [\"Ω1\" \"Ω2\"]\n",
    "p1 = plot(tabe,tabΩ[1,:],xlabel=xlabelΩ[1],ylabel=ylabelΩ[1],label=\"Numerical\");\n",
    "plot!(tabe,tabΩIso[1,:],label=\"True\")\n",
    "p2 = plot(tabe,tabΩ[2,:],xlabel=xlabelΩ[2],ylabel=ylabelΩ[2],label=false);\n",
    "plot!(tabe,tabΩIso[2,:],label=false)\n",
    "plot(p1,p2,layout=(1,2),size=(900,300))"
   ]
  },
  {
   "cell_type": "markdown",
   "id": "b83b4cff",
   "metadata": {},
   "source": [
    "# Frequency derivatives computation"
   ]
  },
  {
   "cell_type": "markdown",
   "id": "554fe759",
   "metadata": {},
   "source": [
    "Frequency values along a constant eccentricity line. Example using the isochrone potential for which analytical expression of the frequencies are known. Comparing analytical and numerical results."
   ]
  },
  {
   "cell_type": "code",
   "execution_count": null,
   "id": "ae572dbd",
   "metadata": {},
   "outputs": [],
   "source": [
    "function FrequenciesDerivE!(a::Float64,\n",
    "                      tabe::Vector{Float64},\n",
    "                      results::Array{Float64})\n",
    "    @assert size(results) == (6,length(tabe))\n",
    "    for j=1:ne\n",
    "        Ω1, Ω2, ∂Ω1∂a, ∂Ω2∂a, ∂Ω1∂e, ∂Ω2∂e = OE.ComputeFrequenciesAEWithDeriv(ψ,dψ,d2ψ,a,tabe[j],fixedparams)\n",
    "        @inbounds results[1,j], results[2,j], results[3,j], results[4,j], results[5,j], results[6,j]= Ω1, Ω2, ∂Ω1∂a, ∂Ω2∂a, ∂Ω1∂e, ∂Ω2∂e\n",
    "    end\n",
    "end;"
   ]
  },
  {
   "cell_type": "code",
   "execution_count": null,
   "id": "a51297f5",
   "metadata": {},
   "outputs": [],
   "source": [
    "ne = 100;\n",
    "tabe = collect(LinRange(0.,1.,ne));\n",
    "tabderΩ = zeros(6,ne);"
   ]
  },
  {
   "cell_type": "code",
   "execution_count": null,
   "id": "90a60d33",
   "metadata": {},
   "outputs": [],
   "source": [
    "a = 1.0\n",
    "\n",
    "# Compute\n",
    "FrequenciesDerivE!(a,tabe,tabderΩ)\n",
    "\n",
    "# Plot\n",
    "xlabelderΩ = [\"\" \"\" \"\" \"\" \"e\" \"e\"]\n",
    "ylabelderΩ = [\"Ω1\" \"Ω2\" \"∂Ω1∂a\" \"∂Ω2∂a\" \"∂Ω1∂e\" \"∂Ω2∂e\"]\n",
    "plot(tabe,transpose(tabderΩ),layout=(3,2),xlabel=xlabelderΩ,ylabel=ylabelderΩ,legend=false,size=(900,600))"
   ]
  },
  {
   "cell_type": "markdown",
   "id": "b5c146a4",
   "metadata": {},
   "source": [
    "# Energy, angular momentum and derivatives computation"
   ]
  },
  {
   "cell_type": "code",
   "execution_count": null,
   "id": "cf66c220",
   "metadata": {},
   "outputs": [],
   "source": [
    "function ELDerivE!(a::Float64,\n",
    "                      tabe::Vector{Float64},\n",
    "                      results::Array{Float64})\n",
    "    @assert size(results) == (6,length(tabe))\n",
    "    for j=1:ne\n",
    "        E, L, ∂E∂a, ∂L∂a, ∂E∂e, ∂L∂e = OE.dELFromAE(ψ,dψ,d2ψ,a,tabe[j],fixedparams)\n",
    "        @inbounds results[1,j], results[2,j], results[3,j], results[4,j], results[5,j], results[6,j]= E, L, ∂E∂a, ∂L∂a, ∂E∂e, ∂L∂e\n",
    "    end\n",
    "end;"
   ]
  },
  {
   "cell_type": "code",
   "execution_count": null,
   "id": "61d983f4",
   "metadata": {},
   "outputs": [],
   "source": [
    "ne = 100;\n",
    "tabe = collect(LinRange(0.,1.,ne));\n",
    "tabderEL = zeros(6,ne);"
   ]
  },
  {
   "cell_type": "code",
   "execution_count": null,
   "id": "d1049a26",
   "metadata": {},
   "outputs": [],
   "source": [
    "a = 1.0\n",
    "\n",
    "# Compute\n",
    "ELDerivE!(a,tabe,tabderEL)\n",
    "\n",
    "# Plot\n",
    "xlabelEL = [\"\" \"\" \"\" \"\" \"e\" \"e\"]\n",
    "ylabelEL = [\"E\" \"L\" \"∂E∂a\" \"∂L∂a\" \"∂E∂e\" \"∂L∂e\"]\n",
    "plot(tabe,transpose(tabderEL),layout=(3,2),xlabel=xlabelEL,ylabel=ylabelEL,legend=false,size=(900,600))"
   ]
  }
 ],
 "metadata": {
  "@webio": {
   "lastCommId": null,
   "lastKernelId": null
  },
  "kernelspec": {
   "display_name": "Julia 1.7.1",
   "language": "julia",
   "name": "julia-1.7"
  },
  "language_info": {
   "file_extension": ".jl",
   "mimetype": "application/julia",
   "name": "julia",
   "version": "1.7.1"
  }
 },
 "nbformat": 4,
 "nbformat_minor": 5
}
