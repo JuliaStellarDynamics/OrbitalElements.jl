{
 "cells": [
  {
   "cell_type": "markdown",
   "id": "11a0ec0e",
   "metadata": {},
   "source": [
    "# OrbitalElements interactive examples"
   ]
  },
  {
   "cell_type": "markdown",
   "id": "a70f664f",
   "metadata": {},
   "source": [
    "## Working environment & Packages"
   ]
  },
  {
   "cell_type": "markdown",
   "id": "8b315321",
   "metadata": {},
   "source": [
    "Set the working environment to the repository root."
   ]
  },
  {
   "cell_type": "code",
   "execution_count": null,
   "id": "ca995578",
   "metadata": {},
   "outputs": [],
   "source": [
    "using Plots, Interact"
   ]
  },
  {
   "cell_type": "code",
   "execution_count": null,
   "id": "5a58dae7",
   "metadata": {},
   "outputs": [],
   "source": [
    "using Pkg\n",
    "Pkg.activate(@__DIR__()*\"/../.\")\n",
    "import OrbitalElements as OE"
   ]
  },
  {
   "cell_type": "markdown",
   "id": "5a32ab46",
   "metadata": {},
   "source": [
    "# Generic parameters"
   ]
  },
  {
   "cell_type": "markdown",
   "id": "2a31ebd5",
   "metadata": {},
   "source": [
    "## Potential"
   ]
  },
  {
   "cell_type": "code",
   "execution_count": null,
   "id": "cc8c139d",
   "metadata": {},
   "outputs": [],
   "source": [
    "G, M, bc = 1.0, 1.0, 1.0\n",
    "ψ(r::Float64)   = OE.ψIsochrone(r,bc,M,G)\n",
    "dψ(r::Float64)  = OE.dψIsochrone(r,bc,M,G)\n",
    "d2ψ(r::Float64) = OE.d2ψIsochrone(r,bc,M,G)\n",
    "Ω₀ = 1.0;"
   ]
  },
  {
   "cell_type": "markdown",
   "id": "4be6ab38",
   "metadata": {},
   "source": [
    "## Parameters"
   ]
  },
  {
   "cell_type": "code",
   "execution_count": null,
   "id": "47e1355b",
   "metadata": {},
   "outputs": [],
   "source": [
    "# Radii for frequency truncations\n",
    "rmin, rmax = 0.1, 100.0\n",
    "# Tolerances / Taylor expansions\n",
    "EDGE = 0.01\n",
    "TOLECC = 0.01\n",
    "TOLA = 1.0\n",
    "NINT = 32\n",
    "\n",
    "const fixedparams = OE.OrbitalParameters(Ω₀=Ω₀,\n",
    "                                            rmin=rmin,rmax=rmax,\n",
    "                                            EDGE=EDGE,TOLA=TOLA,TOLECC=TOLECC,\n",
    "                                            NINT=NINT);"
   ]
  },
  {
   "cell_type": "markdown",
   "id": "ddd3632c",
   "metadata": {},
   "source": [
    "# Frequency computation"
   ]
  },
  {
   "cell_type": "markdown",
   "id": "860266cb",
   "metadata": {},
   "source": [
    "Frequency values along a constant eccentricity line. Example using the isochrone potential for which analytical expression of the frequencies are known. Comparing analytical and numerical results."
   ]
  },
  {
   "cell_type": "code",
   "execution_count": null,
   "id": "495e8e9f",
   "metadata": {},
   "outputs": [],
   "source": [
    "function FrequenciesE!(a::Float64,\n",
    "                      tabe::Vector{Float64},\n",
    "                      results::Array{Float64})\n",
    "    @assert size(results) == (2,length(tabe))\n",
    "    for j=1:ne\n",
    "        Ω1, Ω2 = OE.ComputeFrequenciesAE(ψ,dψ,d2ψ,a,tabe[j],fixedparams)\n",
    "        @inbounds results[1,j], results[2,j] = Ω1, Ω2\n",
    "    end\n",
    "end;\n",
    "function IsochroneFrequenciesE!(a::Float64,\n",
    "                      tabe::Vector{Float64},\n",
    "                      results::Array{Float64})\n",
    "    @assert size(results) == (2,length(tabe))\n",
    "    for j=1:ne\n",
    "        Ω1true, Ω2true = OE.IsochroneOmega12FromAE(a,tabe[j])\n",
    "        @inbounds results[1,j], results[2,j] = Ω1true, Ω2true\n",
    "    end\n",
    "end;"
   ]
  },
  {
   "cell_type": "code",
   "execution_count": null,
   "id": "ff2c25ba",
   "metadata": {},
   "outputs": [],
   "source": [
    "ne = 100;\n",
    "tabe = collect(LinRange(0.,1.,ne));\n",
    "tabΩ = zeros(2,ne);\n",
    "tabΩIso = zeros(2,ne);"
   ]
  },
  {
   "cell_type": "code",
   "execution_count": null,
   "id": "1031786c",
   "metadata": {},
   "outputs": [],
   "source": [
    "@manipulate for a=spinbox((0.0,Inf),label=\"Semi-major axis a = \",value=1.0,step=\"any\")\n",
    "    FrequenciesE!(a,tabe,tabΩ)\n",
    "    IsochroneFrequenciesE!(a,tabe,tabΩIso)\n",
    "    \n",
    "    plot(tabe,tabΩ[1,:],label=\"Numerical\")\n",
    "    plot!(tabe,tabΩIso[1,:],label=\"True\")\n",
    "    xlabel!(\"e\")\n",
    "    ylabel!(\"Ω\")\n",
    "    plot!(legend=:bottomleft, legendcolumns=2)\n",
    "end"
   ]
  },
  {
   "cell_type": "markdown",
   "id": "b83b4cff",
   "metadata": {},
   "source": [
    "# Frequency derivatives computation"
   ]
  },
  {
   "cell_type": "markdown",
   "id": "554fe759",
   "metadata": {},
   "source": [
    "Frequency values along a constant eccentricity line. Example using the isochrone potential for which analytical expression of the frequencies are known. Comparing analytical and numerical results."
   ]
  },
  {
   "cell_type": "code",
   "execution_count": null,
   "id": "ae572dbd",
   "metadata": {},
   "outputs": [],
   "source": [
    "function FrequenciesDerivE!(a::Float64,\n",
    "                      tabe::Vector{Float64},\n",
    "                      results::Array{Float64})\n",
    "    @assert size(results) == (6,length(tabe))\n",
    "    for j=1:ne\n",
    "        Ω1, Ω2, ∂Ω1∂a, ∂Ω2∂a, ∂Ω1∂e, ∂Ω2∂e = OE.ComputeFrequenciesAEWithDeriv(ψ,dψ,d2ψ,a,tabe[j],fixedparams)\n",
    "        @inbounds results[1,j], results[2,j], results[3,j], results[4,j], results[5,j], results[6,j]= Ω1, Ω2, ∂Ω1∂a, ∂Ω2∂a, ∂Ω1∂e, ∂Ω2∂e\n",
    "    end\n",
    "end;"
   ]
  },
  {
   "cell_type": "code",
   "execution_count": null,
   "id": "a51297f5",
   "metadata": {},
   "outputs": [],
   "source": [
    "ne = 100;\n",
    "tabe = collect(LinRange(0.,1.,ne));\n",
    "tabderΩ = zeros(6,ne);"
   ]
  },
  {
   "cell_type": "code",
   "execution_count": null,
   "id": "90a60d33",
   "metadata": {},
   "outputs": [],
   "source": [
    "@manipulate for a=spinbox((0.0,Inf),label=\"Semi-major axis a = \",value=1.0,step=\"any\")\n",
    "    FrequenciesDerivE!(a,tabe,tabderΩ)\n",
    "    \n",
    "    plot(tabe,tabderΩ[6,:],label=\"Numerical\")\n",
    "    xlabel!(\"e\")\n",
    "    ylabel!(\"Ω\")\n",
    "    plot!(legend=:bottomleft, legendcolumns=1)\n",
    "end"
   ]
  },
  {
   "cell_type": "code",
   "execution_count": null,
   "id": "cf66c220",
   "metadata": {},
   "outputs": [],
   "source": []
  }
 ],
 "metadata": {
  "@webio": {
   "lastCommId": "724e20b1e0ab4db9ab1f465fc89b6d65",
   "lastKernelId": "fb60005d-c444-438d-b137-060afbd7d2be"
  },
  "kernelspec": {
   "display_name": "Julia 1.7.1",
   "language": "julia",
   "name": "julia-1.7"
  },
  "language_info": {
   "file_extension": ".jl",
   "mimetype": "application/julia",
   "name": "julia",
   "version": "1.7.1"
  }
 },
 "nbformat": 4,
 "nbformat_minor": 5
}
