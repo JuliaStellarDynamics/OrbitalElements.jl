{
 "cells": [
  {
   "cell_type": "markdown",
   "id": "11a0ec0e",
   "metadata": {},
   "source": [
    "# OrbitalElements interactive examples"
   ]
  },
  {
   "cell_type": "markdown",
   "id": "a70f664f",
   "metadata": {},
   "source": [
    "## Working environment & Packages"
   ]
  },
  {
   "cell_type": "markdown",
   "id": "8b315321",
   "metadata": {},
   "source": [
    "Set the working environment to the repository root."
   ]
  },
  {
   "cell_type": "code",
   "execution_count": 1,
   "id": "ca995578",
   "metadata": {},
   "outputs": [
    {
     "data": {
      "application/vnd.webio.node+json": {
       "children": [],
       "instanceArgs": {
        "namespace": "html",
        "tag": "div"
       },
       "nodeType": "DOM",
       "props": {},
       "type": "node"
      },
      "text/html": [
       "<div style=\"padding: 1em; background-color: #f8d6da; border: 1px solid #f5c6cb; font-weight: bold;\">\n",
       "<p>The WebIO Jupyter extension was not detected. See the\n",
       "<a href=\"https://juliagizmos.github.io/WebIO.jl/latest/providers/ijulia/\" target=\"_blank\">\n",
       "    WebIO Jupyter integration documentation\n",
       "</a>\n",
       "for more information.\n",
       "</div>\n"
      ],
      "text/plain": [
       "WebIO._IJuliaInit()"
      ]
     },
     "metadata": {
      "application/vnd.webio.node+json": {
       "kernelId": "9f5dd034-e4fc-4591-a347-ad4fdcfc2152"
      }
     },
     "output_type": "display_data"
    },
    {
     "name": "stderr",
     "output_type": "stream",
     "text": [
      "\u001b[33m\u001b[1m┌ \u001b[22m\u001b[39m\u001b[33m\u001b[1mWarning: \u001b[22m\u001b[39mbackend `PlotlyJS` is not installed.\n",
      "\u001b[33m\u001b[1m└ \u001b[22m\u001b[39m\u001b[90m@ Plots ~/.julia/packages/Plots/B5j7d/src/backends.jl:43\u001b[39m\n"
     ]
    }
   ],
   "source": [
    "using Plots, Interact\n",
    "plotlyjs();"
   ]
  },
  {
   "cell_type": "code",
   "execution_count": 2,
   "id": "5a58dae7",
   "metadata": {},
   "outputs": [
    {
     "name": "stderr",
     "output_type": "stream",
     "text": [
      "\u001b[32m\u001b[1m  Activating\u001b[22m\u001b[39m project at `~/Documents/Projets/Disc_2D/codes/KineticTheory/OrbitalElements`\n"
     ]
    }
   ],
   "source": [
    "using Pkg\n",
    "Pkg.activate(@__DIR__()*\"/../.\")\n",
    "import OrbitalElements as OE"
   ]
  },
  {
   "cell_type": "markdown",
   "id": "5a32ab46",
   "metadata": {},
   "source": [
    "# Generic parameters"
   ]
  },
  {
   "cell_type": "markdown",
   "id": "2a31ebd5",
   "metadata": {},
   "source": [
    "## Potential"
   ]
  },
  {
   "cell_type": "code",
   "execution_count": 3,
   "id": "cc8c139d",
   "metadata": {},
   "outputs": [],
   "source": [
    "G, M, bc = 1.0, 1.0, 1.0\n",
    "ψ(r::Float64)   = OE.ψIsochrone(r,bc,M,G)\n",
    "dψ(r::Float64)  = OE.dψIsochrone(r,bc,M,G)\n",
    "d2ψ(r::Float64) = OE.d2ψIsochrone(r,bc,M,G)\n",
    "Ω₀ = 1.0;"
   ]
  },
  {
   "cell_type": "markdown",
   "id": "4be6ab38",
   "metadata": {},
   "source": [
    "## Parameters"
   ]
  },
  {
   "cell_type": "code",
   "execution_count": 4,
   "id": "47e1355b",
   "metadata": {},
   "outputs": [],
   "source": [
    "# Radii for frequency truncations\n",
    "rmin, rmax = 0.1, 100.0\n",
    "# Tolerances / Taylor expansions\n",
    "EDGE = 0.01\n",
    "TOLECC = 0.01\n",
    "TOLA = 1.0\n",
    "NINT = 32\n",
    "\n",
    "const fixedparams = OE.OrbitalParameters(Ω₀=Ω₀,\n",
    "                                            rmin=rmin,rmax=rmax,\n",
    "                                            EDGE=EDGE,TOLA=TOLA,TOLECC=TOLECC,\n",
    "                                            NINT=NINT);"
   ]
  },
  {
   "cell_type": "markdown",
   "id": "ddd3632c",
   "metadata": {},
   "source": [
    "# Frequency computation"
   ]
  },
  {
   "cell_type": "markdown",
   "id": "860266cb",
   "metadata": {},
   "source": [
    "Frequency values along a constant eccentricity line. Example using the isochrone potential for which analytical expression of the frequencies are known. Comparing analytical and numerical results."
   ]
  },
  {
   "cell_type": "code",
   "execution_count": 11,
   "id": "bd02e4e8",
   "metadata": {},
   "outputs": [
    {
     "data": {
      "text/plain": [
       "(0.5946035574822814, 0.3483106997371569)"
      ]
     },
     "execution_count": 11,
     "metadata": {},
     "output_type": "execute_result"
    }
   ],
   "source": [
    "OE.ComputeFrequenciesAE(ψ,dψ,d2ψ,1.0,0.00001)"
   ]
  },
  {
   "cell_type": "code",
   "execution_count": 5,
   "id": "495e8e9f",
   "metadata": {},
   "outputs": [],
   "source": [
    "function FrequenciesE!(a::Float64,\n",
    "                      tabe::Vector{Float64},\n",
    "                      results::Array{Float64})\n",
    "    @assert size(results) == (2,length(tabe))\n",
    "    for j=1:ne\n",
    "        Ω1, Ω2 = OE.ComputeFrequenciesAE(ψ,dψ,d2ψ,a,tabe[j],fixedparams)\n",
    "        @inbounds results[1,j], results[2,j] = Ω1, Ω2\n",
    "    end\n",
    "end;\n",
    "function IsochroneFrequenciesE!(a::Float64,\n",
    "                      tabe::Vector{Float64},\n",
    "                      results::Array{Float64})\n",
    "    @assert size(results) == (2,length(tabe))\n",
    "    for j=1:ne\n",
    "        Ω1true, Ω2true = OE.IsochroneOmega12FromAE(a,tabe[j])\n",
    "        @inbounds results[1,j], results[2,j] = Ω1true, Ω2true\n",
    "    end\n",
    "end;"
   ]
  },
  {
   "cell_type": "code",
   "execution_count": 6,
   "id": "ff2c25ba",
   "metadata": {},
   "outputs": [],
   "source": [
    "ne = 100;\n",
    "tabe = collect(LinRange(0.,1.,ne));\n",
    "tabΩ = zeros(2,ne);\n",
    "tabΩIso = zeros(2,ne);"
   ]
  },
  {
   "cell_type": "code",
   "execution_count": 12,
   "id": "1031786c",
   "metadata": {},
   "outputs": [
    {
     "data": {
      "application/vnd.webio.node+json": {
       "children": [
        {
         "children": [
          {
           "children": [
            {
             "children": [
              {
               "children": [
                {
                 "children": [
                  "Semi-major axis a = "
                 ],
                 "instanceArgs": {
                  "namespace": "html",
                  "tag": "label"
                 },
                 "nodeType": "DOM",
                 "props": {
                  "className": "interact ",
                  "style": {
                   "padding": "5px 10px 0px 10px"
                  }
                 },
                 "type": "node"
                }
               ],
               "instanceArgs": {
                "namespace": "html",
                "tag": "div"
               },
               "nodeType": "DOM",
               "props": {
                "className": "interact-flex-row-left"
               },
               "type": "node"
              },
              {
               "children": [
                {
                 "children": [],
                 "instanceArgs": {
                  "namespace": "html",
                  "tag": "input"
                 },
                 "nodeType": "DOM",
                 "props": {
                  "attributes": {
                   "data-bind": "numericValue: value, valueUpdate: 'input', event: {change: function (){this.changes(this.changes()+1)}}",
                   "type": "number"
                  },
                  "className": "input ",
                  "placeholder": [
                   0,
                   null
                  ],
                  "step": "any",
                  "style": {}
                 },
                 "type": "node"
                }
               ],
               "instanceArgs": {
                "namespace": "html",
                "tag": "div"
               },
               "nodeType": "DOM",
               "props": {
                "className": "interact-flex-row-center"
               },
               "type": "node"
              },
              {
               "children": [
                {
                 "children": [],
                 "instanceArgs": {
                  "namespace": "html",
                  "tag": "div"
                 },
                 "nodeType": "DOM",
                 "props": {},
                 "type": "node"
                }
               ],
               "instanceArgs": {
                "namespace": "html",
                "tag": "div"
               },
               "nodeType": "DOM",
               "props": {
                "className": "interact-flex-row-right"
               },
               "type": "node"
              }
             ],
             "instanceArgs": {
              "namespace": "html",
              "tag": "div"
             },
             "nodeType": "DOM",
             "props": {
              "className": "interact-flex-row interact-widget"
             },
             "type": "node"
            }
           ],
           "instanceArgs": {
            "handlers": {
             "changes": [
              "(function (val){return (val!=this.model[\"changes\"]()) ? (this.valueFromJulia[\"changes\"]=true, this.model[\"changes\"](val)) : undefined})"
             ],
             "value": [
              "(function (val){return (val!=this.model[\"value\"]()) ? (this.valueFromJulia[\"value\"]=true, this.model[\"value\"](val)) : undefined})"
             ]
            },
            "id": "12026181475476671321",
            "imports": {
             "data": [
              {
               "name": "knockout",
               "type": "js",
               "url": "/assetserver/4c5ebd06bbb13b44de1de66b59ded31c63790efa-knockout.js"
              },
              {
               "name": "knockout_punches",
               "type": "js",
               "url": "/assetserver/ed4346e66ac07016ba35d67447d190ae18ea2984-knockout_punches.js"
              },
              {
               "name": null,
               "type": "js",
               "url": "/assetserver/c390c87ac31f4ac3b99592ad67b4011db124ff64-all.js"
              },
              {
               "name": null,
               "type": "css",
               "url": "/assetserver/398e155eefd60dd6b86ce2e6ce566feec37926e6-style.css"
              },
              {
               "name": null,
               "type": "css",
               "url": "/assetserver/ecad67a6482c303cd92b9eda9ecf8bbb559ff325-bulma_confined.min.css"
              }
             ],
             "type": "async_block"
            },
            "mount_callbacks": [
             "function () {\n    var handler = (function (ko, koPunches) {\n    ko.punches.enableAll();\n    ko.bindingHandlers.numericValue = {\n        init: function(element, valueAccessor, allBindings, data, context) {\n            var stringified = ko.observable(ko.unwrap(valueAccessor()));\n            stringified.subscribe(function(value) {\n                var val = parseFloat(value);\n                if (!isNaN(val)) {\n                    valueAccessor()(val);\n                }\n            });\n            valueAccessor().subscribe(function(value) {\n                var str = JSON.stringify(value);\n                if ((str == \"0\") && ([\"-0\", \"-0.\"].indexOf(stringified()) >= 0))\n                     return;\n                 if ([\"null\", \"\"].indexOf(str) >= 0)\n                     return;\n                stringified(str);\n            });\n            ko.applyBindingsToNode(\n                element,\n                {\n                    value: stringified,\n                    valueUpdate: allBindings.get('valueUpdate'),\n                },\n                context,\n            );\n        }\n    };\n    var json_data = {\"changes\":WebIO.getval({\"name\":\"changes\",\"scope\":\"12026181475476671321\",\"id\":\"1571590351486094449\",\"type\":\"observable\"}),\"value\":WebIO.getval({\"name\":\"value\",\"scope\":\"12026181475476671321\",\"id\":\"10422970458150235794\",\"type\":\"observable\"})};\n    var self = this;\n    function AppViewModel() {\n        for (var key in json_data) {\n            var el = json_data[key];\n            this[key] = Array.isArray(el) ? ko.observableArray(el) : ko.observable(el);\n        }\n        \n        \n        [this[\"changes\"].subscribe((function (val){!(this.valueFromJulia[\"changes\"]) ? (WebIO.setval({\"name\":\"changes\",\"scope\":\"12026181475476671321\",\"id\":\"1571590351486094449\",\"type\":\"observable\"},val)) : undefined; return this.valueFromJulia[\"changes\"]=false}),self),this[\"value\"].subscribe((function (val){!(this.valueFromJulia[\"value\"]) ? (WebIO.setval({\"name\":\"value\",\"scope\":\"12026181475476671321\",\"id\":\"10422970458150235794\",\"type\":\"observable\"},val)) : undefined; return this.valueFromJulia[\"value\"]=false}),self)]\n        \n    }\n    self.model = new AppViewModel();\n    self.valueFromJulia = {};\n    for (var key in json_data) {\n        self.valueFromJulia[key] = false;\n    }\n    ko.applyBindings(self.model, self.dom);\n}\n);\n    (WebIO.importBlock({\"data\":[{\"name\":\"knockout\",\"type\":\"js\",\"url\":\"/assetserver/4c5ebd06bbb13b44de1de66b59ded31c63790efa-knockout.js\"},{\"name\":\"knockout_punches\",\"type\":\"js\",\"url\":\"/assetserver/ed4346e66ac07016ba35d67447d190ae18ea2984-knockout_punches.js\"}],\"type\":\"async_block\"})).then((imports) => handler.apply(this, imports));\n}\n"
            ],
            "observables": {
             "changes": {
              "id": "1571590351486094449",
              "sync": false,
              "value": 0
             },
             "value": {
              "id": "10422970458150235794",
              "sync": true,
              "value": 1
             }
            },
            "systemjs_options": null
           },
           "nodeType": "Scope",
           "props": {},
           "type": "node"
          }
         ],
         "instanceArgs": {
          "namespace": "html",
          "tag": "div"
         },
         "nodeType": "DOM",
         "props": {
          "className": "field interact-widget"
         },
         "type": "node"
        },
        {
         "children": [
          {
           "children": [],
           "instanceArgs": {
            "id": "10743301406639002209",
            "name": "obs-node"
           },
           "nodeType": "ObservableNode",
           "props": {},
           "type": "node"
          }
         ],
         "instanceArgs": {
          "handlers": {},
          "id": "11965023808278441651",
          "imports": {
           "data": [],
           "type": "async_block"
          },
          "mount_callbacks": [],
          "observables": {
           "obs-node": {
            "id": "10743301406639002209",
            "sync": false,
            "value": {
             "children": [
              {
               "children": [
                {
                 "children": [],
                 "instanceArgs": {
                  "namespace": "html",
                  "tag": "div"
                 },
                 "nodeType": "DOM",
                 "props": {
                  "id": "plot-ed507947-b434-4000-bcd0-036bf84133ea"
                 },
                 "type": "node"
                }
               ],
               "instanceArgs": {
                "handlers": {
                 "__get_gd_contents": [
                  "(function (prop){prop==\"data\" ? (WebIO.setval({\"name\":\"__gd_contents\",\"scope\":\"13830210739376087742\",\"id\":\"6368597686844349867\",\"type\":\"observable\"},this.plotElem.data)) : undefined; return prop==\"layout\" ? (WebIO.setval({\"name\":\"__gd_contents\",\"scope\":\"13830210739376087742\",\"id\":\"6368597686844349867\",\"type\":\"observable\"},this.plotElem.layout)) : undefined})"
                 ],
                 "_commands": [
                  "(function (args){var fn=args.shift(); var elem=this.plotElem; var Plotly=this.Plotly; args.unshift(elem); return Plotly[fn].apply(this,args)})"
                 ],
                 "_downloadImage": [
                  "(function (options){return this.Plotly.downloadImage(this.plotElem,options)})"
                 ],
                 "_toImage": [
                  "(function (options){return this.Plotly.toImage(this.plotElem,options).then((function (data){return WebIO.setval({\"name\":\"image\",\"scope\":\"13830210739376087742\",\"id\":\"17701620957833682298\",\"type\":\"observable\"},data)}))})"
                 ]
                },
                "id": "13830210739376087742",
                "imports": {
                 "data": [
                  {
                   "name": "Plotly",
                   "type": "js",
                   "url": "/assetserver/0e0d11f2478b1ac10d18fbf90f8c6985a2538770-plotly.min.js"
                  },
                  {
                   "name": null,
                   "type": "js",
                   "url": "/assetserver/8b55fb41e6fef71c710a0f48e290464834a81aad-plotly_webio.bundle.js"
                  }
                 ],
                 "type": "async_block"
                },
                "mount_callbacks": [
                 "function () {\n    var handler = ((function (Plotly,PlotlyWebIO){PlotlyWebIO.init(WebIO); var gd=this.dom.querySelector(\"#plot-ed507947-b434-4000-bcd0-036bf84133ea\"); this.plotElem=gd; this.Plotly=Plotly; (window.Blink!==undefined) ? (gd.style.width=\"100%\", gd.style.height=\"100vh\", gd.style.marginLeft=\"0%\", gd.style.marginTop=\"0vh\") : undefined; window.onresize=(function (){return Plotly.Plots.resize(gd)}); Plotly.newPlot(gd,[],{\"template\":{\"layout\":{\"coloraxis\":{\"colorbar\":{\"ticks\":\"\",\"outlinewidth\":0}},\"xaxis\":{\"gridcolor\":\"white\",\"zerolinewidth\":2,\"title\":{\"standoff\":15},\"ticks\":\"\",\"zerolinecolor\":\"white\",\"automargin\":true,\"linecolor\":\"white\"},\"hovermode\":\"closest\",\"paper_bgcolor\":\"white\",\"geo\":{\"showlakes\":true,\"showland\":true,\"landcolor\":\"#E5ECF6\",\"bgcolor\":\"white\",\"subunitcolor\":\"white\",\"lakecolor\":\"white\"},\"colorscale\":{\"sequential\":[[0.0,\"#0d0887\"],[0.1111111111111111,\"#46039f\"],[0.2222222222222222,\"#7201a8\"],[0.3333333333333333,\"#9c179e\"],[0.4444444444444444,\"#bd3786\"],[0.5555555555555556,\"#d8576b\"],[0.6666666666666666,\"#ed7953\"],[0.7777777777777778,\"#fb9f3a\"],[0.8888888888888888,\"#fdca26\"],[1.0,\"#f0f921\"]],\"diverging\":[[0,\"#8e0152\"],[0.1,\"#c51b7d\"],[0.2,\"#de77ae\"],[0.3,\"#f1b6da\"],[0.4,\"#fde0ef\"],[0.5,\"#f7f7f7\"],[0.6,\"#e6f5d0\"],[0.7,\"#b8e186\"],[0.8,\"#7fbc41\"],[0.9,\"#4d9221\"],[1,\"#276419\"]],\"sequentialminus\":[[0.0,\"#0d0887\"],[0.1111111111111111,\"#46039f\"],[0.2222222222222222,\"#7201a8\"],[0.3333333333333333,\"#9c179e\"],[0.4444444444444444,\"#bd3786\"],[0.5555555555555556,\"#d8576b\"],[0.6666666666666666,\"#ed7953\"],[0.7777777777777778,\"#fb9f3a\"],[0.8888888888888888,\"#fdca26\"],[1.0,\"#f0f921\"]]},\"yaxis\":{\"gridcolor\":\"white\",\"zerolinewidth\":2,\"title\":{\"standoff\":15},\"ticks\":\"\",\"zerolinecolor\":\"white\",\"automargin\":true,\"linecolor\":\"white\"},\"shapedefaults\":{\"line\":{\"color\":\"#2a3f5f\"}},\"hoverlabel\":{\"align\":\"left\"},\"mapbox\":{\"style\":\"light\"},\"polar\":{\"angularaxis\":{\"gridcolor\":\"white\",\"ticks\":\"\",\"linecolor\":\"white\"},\"bgcolor\":\"#E5ECF6\",\"radialaxis\":{\"gridcolor\":\"white\",\"ticks\":\"\",\"linecolor\":\"white\"}},\"autotypenumbers\":\"strict\",\"font\":{\"color\":\"#2a3f5f\"},\"ternary\":{\"baxis\":{\"gridcolor\":\"white\",\"ticks\":\"\",\"linecolor\":\"white\"},\"bgcolor\":\"#E5ECF6\",\"caxis\":{\"gridcolor\":\"white\",\"ticks\":\"\",\"linecolor\":\"white\"},\"aaxis\":{\"gridcolor\":\"white\",\"ticks\":\"\",\"linecolor\":\"white\"}},\"annotationdefaults\":{\"arrowhead\":0,\"arrowwidth\":1,\"arrowcolor\":\"#2a3f5f\"},\"plot_bgcolor\":\"#E5ECF6\",\"title\":{\"x\":0.05},\"scene\":{\"xaxis\":{\"gridcolor\":\"white\",\"gridwidth\":2,\"backgroundcolor\":\"#E5ECF6\",\"ticks\":\"\",\"showbackground\":true,\"zerolinecolor\":\"white\",\"linecolor\":\"white\"},\"zaxis\":{\"gridcolor\":\"white\",\"gridwidth\":2,\"backgroundcolor\":\"#E5ECF6\",\"ticks\":\"\",\"showbackground\":true,\"zerolinecolor\":\"white\",\"linecolor\":\"white\"},\"yaxis\":{\"gridcolor\":\"white\",\"gridwidth\":2,\"backgroundcolor\":\"#E5ECF6\",\"ticks\":\"\",\"showbackground\":true,\"zerolinecolor\":\"white\",\"linecolor\":\"white\"}},\"colorway\":[\"#636efa\",\"#EF553B\",\"#00cc96\",\"#ab63fa\",\"#FFA15A\",\"#19d3f3\",\"#FF6692\",\"#B6E880\",\"#FF97FF\",\"#FECB52\"]},\"data\":{\"barpolar\":[{\"type\":\"barpolar\",\"marker\":{\"line\":{\"color\":\"#E5ECF6\",\"width\":0.5}}}],\"carpet\":[{\"aaxis\":{\"gridcolor\":\"white\",\"endlinecolor\":\"#2a3f5f\",\"minorgridcolor\":\"white\",\"startlinecolor\":\"#2a3f5f\",\"linecolor\":\"white\"},\"type\":\"carpet\",\"baxis\":{\"gridcolor\":\"white\",\"endlinecolor\":\"#2a3f5f\",\"minorgridcolor\":\"white\",\"startlinecolor\":\"#2a3f5f\",\"linecolor\":\"white\"}}],\"scatterpolar\":[{\"type\":\"scatterpolar\",\"marker\":{\"colorbar\":{\"ticks\":\"\",\"outlinewidth\":0}}}],\"parcoords\":[{\"line\":{\"colorbar\":{\"ticks\":\"\",\"outlinewidth\":0}},\"type\":\"parcoords\"}],\"scatter\":[{\"type\":\"scatter\",\"marker\":{\"colorbar\":{\"ticks\":\"\",\"outlinewidth\":0}}}],\"histogram2dcontour\":[{\"colorbar\":{\"ticks\":\"\",\"outlinewidth\":0},\"type\":\"histogram2dcontour\",\"colorscale\":[[0.0,\"#0d0887\"],[0.1111111111111111,\"#46039f\"],[0.2222222222222222,\"#7201a8\"],[0.3333333333333333,\"#9c179e\"],[0.4444444444444444,\"#bd3786\"],[0.5555555555555556,\"#d8576b\"],[0.6666666666666666,\"#ed7953\"],[0.7777777777777778,\"#fb9f3a\"],[0.8888888888888888,\"#fdca26\"],[1.0,\"#f0f921\"]]}],\"contour\":[{\"colorbar\":{\"ticks\":\"\",\"outlinewidth\":0},\"type\":\"contour\",\"colorscale\":[[0.0,\"#0d0887\"],[0.1111111111111111,\"#46039f\"],[0.2222222222222222,\"#7201a8\"],[0.3333333333333333,\"#9c179e\"],[0.4444444444444444,\"#bd3786\"],[0.5555555555555556,\"#d8576b\"],[0.6666666666666666,\"#ed7953\"],[0.7777777777777778,\"#fb9f3a\"],[0.8888888888888888,\"#fdca26\"],[1.0,\"#f0f921\"]]}],\"scattercarpet\":[{\"type\":\"scattercarpet\",\"marker\":{\"colorbar\":{\"ticks\":\"\",\"outlinewidth\":0}}}],\"mesh3d\":[{\"colorbar\":{\"ticks\":\"\",\"outlinewidth\":0},\"type\":\"mesh3d\"}],\"surface\":[{\"colorbar\":{\"ticks\":\"\",\"outlinewidth\":0},\"type\":\"surface\",\"colorscale\":[[0.0,\"#0d0887\"],[0.1111111111111111,\"#46039f\"],[0.2222222222222222,\"#7201a8\"],[0.3333333333333333,\"#9c179e\"],[0.4444444444444444,\"#bd3786\"],[0.5555555555555556,\"#d8576b\"],[0.6666666666666666,\"#ed7953\"],[0.7777777777777778,\"#fb9f3a\"],[0.8888888888888888,\"#fdca26\"],[1.0,\"#f0f921\"]]}],\"scattermapbox\":[{\"type\":\"scattermapbox\",\"marker\":{\"colorbar\":{\"ticks\":\"\",\"outlinewidth\":0}}}],\"scattergeo\":[{\"type\":\"scattergeo\",\"marker\":{\"colorbar\":{\"ticks\":\"\",\"outlinewidth\":0}}}],\"histogram\":[{\"type\":\"histogram\",\"marker\":{\"colorbar\":{\"ticks\":\"\",\"outlinewidth\":0}}}],\"pie\":[{\"type\":\"pie\",\"automargin\":true}],\"choropleth\":[{\"colorbar\":{\"ticks\":\"\",\"outlinewidth\":0},\"type\":\"choropleth\"}],\"heatmapgl\":[{\"colorbar\":{\"ticks\":\"\",\"outlinewidth\":0},\"type\":\"heatmapgl\",\"colorscale\":[[0.0,\"#0d0887\"],[0.1111111111111111,\"#46039f\"],[0.2222222222222222,\"#7201a8\"],[0.3333333333333333,\"#9c179e\"],[0.4444444444444444,\"#bd3786\"],[0.5555555555555556,\"#d8576b\"],[0.6666666666666666,\"#ed7953\"],[0.7777777777777778,\"#fb9f3a\"],[0.8888888888888888,\"#fdca26\"],[1.0,\"#f0f921\"]]}],\"bar\":[{\"type\":\"bar\",\"error_y\":{\"color\":\"#2a3f5f\"},\"error_x\":{\"color\":\"#2a3f5f\"},\"marker\":{\"line\":{\"color\":\"#E5ECF6\",\"width\":0.5}}}],\"heatmap\":[{\"colorbar\":{\"ticks\":\"\",\"outlinewidth\":0},\"type\":\"heatmap\",\"colorscale\":[[0.0,\"#0d0887\"],[0.1111111111111111,\"#46039f\"],[0.2222222222222222,\"#7201a8\"],[0.3333333333333333,\"#9c179e\"],[0.4444444444444444,\"#bd3786\"],[0.5555555555555556,\"#d8576b\"],[0.6666666666666666,\"#ed7953\"],[0.7777777777777778,\"#fb9f3a\"],[0.8888888888888888,\"#fdca26\"],[1.0,\"#f0f921\"]]}],\"contourcarpet\":[{\"colorbar\":{\"ticks\":\"\",\"outlinewidth\":0},\"type\":\"contourcarpet\"}],\"table\":[{\"type\":\"table\",\"header\":{\"line\":{\"color\":\"white\"},\"fill\":{\"color\":\"#C8D4E3\"}},\"cells\":{\"line\":{\"color\":\"white\"},\"fill\":{\"color\":\"#EBF0F8\"}}}],\"scatter3d\":[{\"line\":{\"colorbar\":{\"ticks\":\"\",\"outlinewidth\":0}},\"type\":\"scatter3d\",\"marker\":{\"colorbar\":{\"ticks\":\"\",\"outlinewidth\":0}}}],\"scattergl\":[{\"type\":\"scattergl\",\"marker\":{\"colorbar\":{\"ticks\":\"\",\"outlinewidth\":0}}}],\"histogram2d\":[{\"colorbar\":{\"ticks\":\"\",\"outlinewidth\":0},\"type\":\"histogram2d\",\"colorscale\":[[0.0,\"#0d0887\"],[0.1111111111111111,\"#46039f\"],[0.2222222222222222,\"#7201a8\"],[0.3333333333333333,\"#9c179e\"],[0.4444444444444444,\"#bd3786\"],[0.5555555555555556,\"#d8576b\"],[0.6666666666666666,\"#ed7953\"],[0.7777777777777778,\"#fb9f3a\"],[0.8888888888888888,\"#fdca26\"],[1.0,\"#f0f921\"]]}],\"scatterternary\":[{\"type\":\"scatterternary\",\"marker\":{\"colorbar\":{\"ticks\":\"\",\"outlinewidth\":0}}}],\"scatterpolargl\":[{\"type\":\"scatterpolargl\",\"marker\":{\"colorbar\":{\"ticks\":\"\",\"outlinewidth\":0}}}]}},\"margin\":{\"l\":50,\"b\":50,\"r\":50,\"t\":60}},{\"showLink\":false,\"editable\":false,\"responsive\":true,\"staticPlot\":false,\"scrollZoom\":true}); gd.on(\"plotly_hover\",(function (data){var filtered_data=WebIO.PlotlyCommands.filterEventData(gd,data,\"hover\"); return !(filtered_data.isnil) ? (WebIO.setval({\"name\":\"hover\",\"scope\":\"13830210739376087742\",\"id\":\"11498644695741798736\",\"type\":\"observable\"},filtered_data.out)) : undefined})); gd.on(\"plotly_unhover\",(function (){return WebIO.setval({\"name\":\"hover\",\"scope\":\"13830210739376087742\",\"id\":\"11498644695741798736\",\"type\":\"observable\"},{})})); gd.on(\"plotly_selected\",(function (data){var filtered_data=WebIO.PlotlyCommands.filterEventData(gd,data,\"selected\"); return !(filtered_data.isnil) ? (WebIO.setval({\"name\":\"selected\",\"scope\":\"13830210739376087742\",\"id\":\"8355197921060111785\",\"type\":\"observable\"},filtered_data.out)) : undefined})); gd.on(\"plotly_deselect\",(function (){return WebIO.setval({\"name\":\"selected\",\"scope\":\"13830210739376087742\",\"id\":\"8355197921060111785\",\"type\":\"observable\"},{})})); gd.on(\"plotly_relayout\",(function (data){var filtered_data=WebIO.PlotlyCommands.filterEventData(gd,data,\"relayout\"); return !(filtered_data.isnil) ? (WebIO.setval({\"name\":\"relayout\",\"scope\":\"13830210739376087742\",\"id\":\"11718376790370539610\",\"type\":\"observable\"},filtered_data.out)) : undefined})); return gd.on(\"plotly_click\",(function (data){var filtered_data=WebIO.PlotlyCommands.filterEventData(gd,data,\"click\"); return !(filtered_data.isnil) ? (WebIO.setval({\"name\":\"click\",\"scope\":\"13830210739376087742\",\"id\":\"10803957709797756460\",\"type\":\"observable\"},filtered_data.out)) : undefined}))}));\n    (WebIO.importBlock({\"data\":[{\"name\":\"Plotly\",\"type\":\"js\",\"url\":\"/assetserver/0e0d11f2478b1ac10d18fbf90f8c6985a2538770-plotly.min.js\"},{\"name\":null,\"type\":\"js\",\"url\":\"/assetserver/8b55fb41e6fef71c710a0f48e290464834a81aad-plotly_webio.bundle.js\"}],\"type\":\"async_block\"})).then((imports) => handler.apply(this, imports));\n}\n"
                ],
                "observables": {
                 "__gd_contents": {
                  "id": "6368597686844349867",
                  "sync": false,
                  "value": {}
                 },
                 "__get_gd_contents": {
                  "id": "15800805237184739771",
                  "sync": false,
                  "value": ""
                 },
                 "_commands": {
                  "id": "15718334235053736782",
                  "sync": false,
                  "value": [
                   "update",
                   {},
                   {
                    "annotations": [],
                    "height": 400,
                    "legend": {
                     "bgcolor": "rgba(255, 255, 255, 1.000)",
                     "bordercolor": "rgba(0, 0, 0, 1.000)",
                     "borderwidth": 1,
                     "font": {
                      "color": "rgba(0, 0, 0, 1.000)",
                      "family": "sans-serif",
                      "size": 11
                     },
                     "title": {
                      "font": {
                       "color": "rgba(0, 0, 0, 1.000)",
                       "family": "sans-serif",
                       "size": 15
                      },
                      "text": ""
                     },
                     "tracegroupgap": 0,
                     "traceorder": "normal",
                     "x": 0.07,
                     "xanchor": "left",
                     "y": 0.07,
                     "yanchor": "bottom"
                    },
                    "margin": {
                     "b": 50,
                     "l": 50,
                     "r": 50,
                     "t": 60
                    },
                    "paper_bgcolor": "rgba(255, 255, 255, 1.000)",
                    "plot_bgcolor": "rgba(255, 255, 255, 1.000)",
                    "showlegend": true,
                    "template": {
                     "data": {
                      "bar": [
                       {
                        "error_x": {
                         "color": "#2a3f5f"
                        },
                        "error_y": {
                         "color": "#2a3f5f"
                        },
                        "marker": {
                         "line": {
                          "color": "#E5ECF6",
                          "width": 0.5
                         }
                        },
                        "type": "bar"
                       }
                      ],
                      "barpolar": [
                       {
                        "marker": {
                         "line": {
                          "color": "#E5ECF6",
                          "width": 0.5
                         }
                        },
                        "type": "barpolar"
                       }
                      ],
                      "carpet": [
                       {
                        "aaxis": {
                         "endlinecolor": "#2a3f5f",
                         "gridcolor": "white",
                         "linecolor": "white",
                         "minorgridcolor": "white",
                         "startlinecolor": "#2a3f5f"
                        },
                        "baxis": {
                         "endlinecolor": "#2a3f5f",
                         "gridcolor": "white",
                         "linecolor": "white",
                         "minorgridcolor": "white",
                         "startlinecolor": "#2a3f5f"
                        },
                        "type": "carpet"
                       }
                      ],
                      "choropleth": [
                       {
                        "colorbar": {
                         "outlinewidth": 0,
                         "ticks": ""
                        },
                        "type": "choropleth"
                       }
                      ],
                      "contour": [
                       {
                        "colorbar": {
                         "outlinewidth": 0,
                         "ticks": ""
                        },
                        "colorscale": [
                         [
                          0,
                          "#0d0887"
                         ],
                         [
                          0.1111111111111111,
                          "#46039f"
                         ],
                         [
                          0.2222222222222222,
                          "#7201a8"
                         ],
                         [
                          0.3333333333333333,
                          "#9c179e"
                         ],
                         [
                          0.4444444444444444,
                          "#bd3786"
                         ],
                         [
                          0.5555555555555556,
                          "#d8576b"
                         ],
                         [
                          0.6666666666666666,
                          "#ed7953"
                         ],
                         [
                          0.7777777777777778,
                          "#fb9f3a"
                         ],
                         [
                          0.8888888888888888,
                          "#fdca26"
                         ],
                         [
                          1,
                          "#f0f921"
                         ]
                        ],
                        "type": "contour"
                       }
                      ],
                      "contourcarpet": [
                       {
                        "colorbar": {
                         "outlinewidth": 0,
                         "ticks": ""
                        },
                        "type": "contourcarpet"
                       }
                      ],
                      "heatmap": [
                       {
                        "colorbar": {
                         "outlinewidth": 0,
                         "ticks": ""
                        },
                        "colorscale": [
                         [
                          0,
                          "#0d0887"
                         ],
                         [
                          0.1111111111111111,
                          "#46039f"
                         ],
                         [
                          0.2222222222222222,
                          "#7201a8"
                         ],
                         [
                          0.3333333333333333,
                          "#9c179e"
                         ],
                         [
                          0.4444444444444444,
                          "#bd3786"
                         ],
                         [
                          0.5555555555555556,
                          "#d8576b"
                         ],
                         [
                          0.6666666666666666,
                          "#ed7953"
                         ],
                         [
                          0.7777777777777778,
                          "#fb9f3a"
                         ],
                         [
                          0.8888888888888888,
                          "#fdca26"
                         ],
                         [
                          1,
                          "#f0f921"
                         ]
                        ],
                        "type": "heatmap"
                       }
                      ],
                      "heatmapgl": [
                       {
                        "colorbar": {
                         "outlinewidth": 0,
                         "ticks": ""
                        },
                        "colorscale": [
                         [
                          0,
                          "#0d0887"
                         ],
                         [
                          0.1111111111111111,
                          "#46039f"
                         ],
                         [
                          0.2222222222222222,
                          "#7201a8"
                         ],
                         [
                          0.3333333333333333,
                          "#9c179e"
                         ],
                         [
                          0.4444444444444444,
                          "#bd3786"
                         ],
                         [
                          0.5555555555555556,
                          "#d8576b"
                         ],
                         [
                          0.6666666666666666,
                          "#ed7953"
                         ],
                         [
                          0.7777777777777778,
                          "#fb9f3a"
                         ],
                         [
                          0.8888888888888888,
                          "#fdca26"
                         ],
                         [
                          1,
                          "#f0f921"
                         ]
                        ],
                        "type": "heatmapgl"
                       }
                      ],
                      "histogram": [
                       {
                        "marker": {
                         "colorbar": {
                          "outlinewidth": 0,
                          "ticks": ""
                         }
                        },
                        "type": "histogram"
                       }
                      ],
                      "histogram2d": [
                       {
                        "colorbar": {
                         "outlinewidth": 0,
                         "ticks": ""
                        },
                        "colorscale": [
                         [
                          0,
                          "#0d0887"
                         ],
                         [
                          0.1111111111111111,
                          "#46039f"
                         ],
                         [
                          0.2222222222222222,
                          "#7201a8"
                         ],
                         [
                          0.3333333333333333,
                          "#9c179e"
                         ],
                         [
                          0.4444444444444444,
                          "#bd3786"
                         ],
                         [
                          0.5555555555555556,
                          "#d8576b"
                         ],
                         [
                          0.6666666666666666,
                          "#ed7953"
                         ],
                         [
                          0.7777777777777778,
                          "#fb9f3a"
                         ],
                         [
                          0.8888888888888888,
                          "#fdca26"
                         ],
                         [
                          1,
                          "#f0f921"
                         ]
                        ],
                        "type": "histogram2d"
                       }
                      ],
                      "histogram2dcontour": [
                       {
                        "colorbar": {
                         "outlinewidth": 0,
                         "ticks": ""
                        },
                        "colorscale": [
                         [
                          0,
                          "#0d0887"
                         ],
                         [
                          0.1111111111111111,
                          "#46039f"
                         ],
                         [
                          0.2222222222222222,
                          "#7201a8"
                         ],
                         [
                          0.3333333333333333,
                          "#9c179e"
                         ],
                         [
                          0.4444444444444444,
                          "#bd3786"
                         ],
                         [
                          0.5555555555555556,
                          "#d8576b"
                         ],
                         [
                          0.6666666666666666,
                          "#ed7953"
                         ],
                         [
                          0.7777777777777778,
                          "#fb9f3a"
                         ],
                         [
                          0.8888888888888888,
                          "#fdca26"
                         ],
                         [
                          1,
                          "#f0f921"
                         ]
                        ],
                        "type": "histogram2dcontour"
                       }
                      ],
                      "mesh3d": [
                       {
                        "colorbar": {
                         "outlinewidth": 0,
                         "ticks": ""
                        },
                        "type": "mesh3d"
                       }
                      ],
                      "parcoords": [
                       {
                        "line": {
                         "colorbar": {
                          "outlinewidth": 0,
                          "ticks": ""
                         }
                        },
                        "type": "parcoords"
                       }
                      ],
                      "pie": [
                       {
                        "automargin": true,
                        "type": "pie"
                       }
                      ],
                      "scatter": [
                       {
                        "marker": {
                         "colorbar": {
                          "outlinewidth": 0,
                          "ticks": ""
                         }
                        },
                        "type": "scatter"
                       }
                      ],
                      "scatter3d": [
                       {
                        "line": {
                         "colorbar": {
                          "outlinewidth": 0,
                          "ticks": ""
                         }
                        },
                        "marker": {
                         "colorbar": {
                          "outlinewidth": 0,
                          "ticks": ""
                         }
                        },
                        "type": "scatter3d"
                       }
                      ],
                      "scattercarpet": [
                       {
                        "marker": {
                         "colorbar": {
                          "outlinewidth": 0,
                          "ticks": ""
                         }
                        },
                        "type": "scattercarpet"
                       }
                      ],
                      "scattergeo": [
                       {
                        "marker": {
                         "colorbar": {
                          "outlinewidth": 0,
                          "ticks": ""
                         }
                        },
                        "type": "scattergeo"
                       }
                      ],
                      "scattergl": [
                       {
                        "marker": {
                         "colorbar": {
                          "outlinewidth": 0,
                          "ticks": ""
                         }
                        },
                        "type": "scattergl"
                       }
                      ],
                      "scattermapbox": [
                       {
                        "marker": {
                         "colorbar": {
                          "outlinewidth": 0,
                          "ticks": ""
                         }
                        },
                        "type": "scattermapbox"
                       }
                      ],
                      "scatterpolar": [
                       {
                        "marker": {
                         "colorbar": {
                          "outlinewidth": 0,
                          "ticks": ""
                         }
                        },
                        "type": "scatterpolar"
                       }
                      ],
                      "scatterpolargl": [
                       {
                        "marker": {
                         "colorbar": {
                          "outlinewidth": 0,
                          "ticks": ""
                         }
                        },
                        "type": "scatterpolargl"
                       }
                      ],
                      "scatterternary": [
                       {
                        "marker": {
                         "colorbar": {
                          "outlinewidth": 0,
                          "ticks": ""
                         }
                        },
                        "type": "scatterternary"
                       }
                      ],
                      "surface": [
                       {
                        "colorbar": {
                         "outlinewidth": 0,
                         "ticks": ""
                        },
                        "colorscale": [
                         [
                          0,
                          "#0d0887"
                         ],
                         [
                          0.1111111111111111,
                          "#46039f"
                         ],
                         [
                          0.2222222222222222,
                          "#7201a8"
                         ],
                         [
                          0.3333333333333333,
                          "#9c179e"
                         ],
                         [
                          0.4444444444444444,
                          "#bd3786"
                         ],
                         [
                          0.5555555555555556,
                          "#d8576b"
                         ],
                         [
                          0.6666666666666666,
                          "#ed7953"
                         ],
                         [
                          0.7777777777777778,
                          "#fb9f3a"
                         ],
                         [
                          0.8888888888888888,
                          "#fdca26"
                         ],
                         [
                          1,
                          "#f0f921"
                         ]
                        ],
                        "type": "surface"
                       }
                      ],
                      "table": [
                       {
                        "cells": {
                         "fill": {
                          "color": "#EBF0F8"
                         },
                         "line": {
                          "color": "white"
                         }
                        },
                        "header": {
                         "fill": {
                          "color": "#C8D4E3"
                         },
                         "line": {
                          "color": "white"
                         }
                        },
                        "type": "table"
                       }
                      ]
                     },
                     "layout": {
                      "annotationdefaults": {
                       "arrowcolor": "#2a3f5f",
                       "arrowhead": 0,
                       "arrowwidth": 1
                      },
                      "autotypenumbers": "strict",
                      "coloraxis": {
                       "colorbar": {
                        "outlinewidth": 0,
                        "ticks": ""
                       }
                      },
                      "colorscale": {
                       "diverging": [
                        [
                         0,
                         "#8e0152"
                        ],
                        [
                         0.1,
                         "#c51b7d"
                        ],
                        [
                         0.2,
                         "#de77ae"
                        ],
                        [
                         0.3,
                         "#f1b6da"
                        ],
                        [
                         0.4,
                         "#fde0ef"
                        ],
                        [
                         0.5,
                         "#f7f7f7"
                        ],
                        [
                         0.6,
                         "#e6f5d0"
                        ],
                        [
                         0.7,
                         "#b8e186"
                        ],
                        [
                         0.8,
                         "#7fbc41"
                        ],
                        [
                         0.9,
                         "#4d9221"
                        ],
                        [
                         1,
                         "#276419"
                        ]
                       ],
                       "sequential": [
                        [
                         0,
                         "#0d0887"
                        ],
                        [
                         0.1111111111111111,
                         "#46039f"
                        ],
                        [
                         0.2222222222222222,
                         "#7201a8"
                        ],
                        [
                         0.3333333333333333,
                         "#9c179e"
                        ],
                        [
                         0.4444444444444444,
                         "#bd3786"
                        ],
                        [
                         0.5555555555555556,
                         "#d8576b"
                        ],
                        [
                         0.6666666666666666,
                         "#ed7953"
                        ],
                        [
                         0.7777777777777778,
                         "#fb9f3a"
                        ],
                        [
                         0.8888888888888888,
                         "#fdca26"
                        ],
                        [
                         1,
                         "#f0f921"
                        ]
                       ],
                       "sequentialminus": [
                        [
                         0,
                         "#0d0887"
                        ],
                        [
                         0.1111111111111111,
                         "#46039f"
                        ],
                        [
                         0.2222222222222222,
                         "#7201a8"
                        ],
                        [
                         0.3333333333333333,
                         "#9c179e"
                        ],
                        [
                         0.4444444444444444,
                         "#bd3786"
                        ],
                        [
                         0.5555555555555556,
                         "#d8576b"
                        ],
                        [
                         0.6666666666666666,
                         "#ed7953"
                        ],
                        [
                         0.7777777777777778,
                         "#fb9f3a"
                        ],
                        [
                         0.8888888888888888,
                         "#fdca26"
                        ],
                        [
                         1,
                         "#f0f921"
                        ]
                       ]
                      },
                      "colorway": [
                       "#636efa",
                       "#EF553B",
                       "#00cc96",
                       "#ab63fa",
                       "#FFA15A",
                       "#19d3f3",
                       "#FF6692",
                       "#B6E880",
                       "#FF97FF",
                       "#FECB52"
                      ],
                      "font": {
                       "color": "#2a3f5f"
                      },
                      "geo": {
                       "bgcolor": "white",
                       "lakecolor": "white",
                       "landcolor": "#E5ECF6",
                       "showlakes": true,
                       "showland": true,
                       "subunitcolor": "white"
                      },
                      "hoverlabel": {
                       "align": "left"
                      },
                      "hovermode": "closest",
                      "mapbox": {
                       "style": "light"
                      },
                      "paper_bgcolor": "white",
                      "plot_bgcolor": "#E5ECF6",
                      "polar": {
                       "angularaxis": {
                        "gridcolor": "white",
                        "linecolor": "white",
                        "ticks": ""
                       },
                       "bgcolor": "#E5ECF6",
                       "radialaxis": {
                        "gridcolor": "white",
                        "linecolor": "white",
                        "ticks": ""
                       }
                      },
                      "scene": {
                       "xaxis": {
                        "backgroundcolor": "#E5ECF6",
                        "gridcolor": "white",
                        "gridwidth": 2,
                        "linecolor": "white",
                        "showbackground": true,
                        "ticks": "",
                        "zerolinecolor": "white"
                       },
                       "yaxis": {
                        "backgroundcolor": "#E5ECF6",
                        "gridcolor": "white",
                        "gridwidth": 2,
                        "linecolor": "white",
                        "showbackground": true,
                        "ticks": "",
                        "zerolinecolor": "white"
                       },
                       "zaxis": {
                        "backgroundcolor": "#E5ECF6",
                        "gridcolor": "white",
                        "gridwidth": 2,
                        "linecolor": "white",
                        "showbackground": true,
                        "ticks": "",
                        "zerolinecolor": "white"
                       }
                      },
                      "shapedefaults": {
                       "line": {
                        "color": "#2a3f5f"
                       }
                      },
                      "ternary": {
                       "aaxis": {
                        "gridcolor": "white",
                        "linecolor": "white",
                        "ticks": ""
                       },
                       "baxis": {
                        "gridcolor": "white",
                        "linecolor": "white",
                        "ticks": ""
                       },
                       "bgcolor": "#E5ECF6",
                       "caxis": {
                        "gridcolor": "white",
                        "linecolor": "white",
                        "ticks": ""
                       }
                      },
                      "title": {
                       "x": 0.05
                      },
                      "xaxis": {
                       "automargin": true,
                       "gridcolor": "white",
                       "linecolor": "white",
                       "ticks": "",
                       "title": {
                        "standoff": 15
                       },
                       "zerolinecolor": "white",
                       "zerolinewidth": 2
                      },
                      "yaxis": {
                       "automargin": true,
                       "gridcolor": "white",
                       "linecolor": "white",
                       "ticks": "",
                       "title": {
                        "standoff": 15
                       },
                       "zerolinecolor": "white",
                       "zerolinewidth": 2
                      }
                     }
                    },
                    "width": 600,
                    "xaxis": {
                     "anchor": "y",
                     "domain": [
                      0,
                      0
                     ],
                     "gridcolor": "rgba(0, 0, 0, 0.100)",
                     "gridwidth": 0.5,
                     "linecolor": "rgba(0, 0, 0, 1.000)",
                     "mirror": false,
                     "range": [
                      -0.030000000000000027,
                      1.03
                     ],
                     "showgrid": true,
                     "showline": true,
                     "showticklabels": true,
                     "tickangle": 0,
                     "tickcolor": "rgb(0, 0, 0)",
                     "tickfont": {
                      "color": "rgba(0, 0, 0, 1.000)",
                      "family": "sans-serif",
                      "size": 11
                     },
                     "tickmode": "array",
                     "ticks": "inside",
                     "ticktext": [
                      "0.00",
                      "0.25",
                      "0.50",
                      "0.75",
                      "1.00"
                     ],
                     "tickvals": [
                      0,
                      0.25,
                      0.5,
                      0.75,
                      1
                     ],
                     "title": "e",
                     "titlefont": {
                      "color": "rgba(0, 0, 0, 1.000)",
                      "family": "sans-serif",
                      "size": 15
                     },
                     "type": "-",
                     "visible": true,
                     "zeroline": false,
                     "zerolinecolor": "rgba(0, 0, 0, 1.000)"
                    },
                    "yaxis": {
                     "anchor": "x",
                     "domain": [
                      1,
                      1
                     ],
                     "gridcolor": "rgba(0, 0, 0, 0.100)",
                     "gridwidth": 0.5,
                     "linecolor": "rgba(0, 0, 0, 1.000)",
                     "mirror": false,
                     "range": [
                      0.4826062131843041,
                      0.5978656160737019
                     ],
                     "showgrid": true,
                     "showline": true,
                     "showticklabels": true,
                     "tickangle": 0,
                     "tickcolor": "rgb(0, 0, 0)",
                     "tickfont": {
                      "color": "rgba(0, 0, 0, 1.000)",
                      "family": "sans-serif",
                      "size": 11
                     },
                     "tickmode": "array",
                     "ticks": "inside",
                     "ticktext": [
                      "0.50",
                      "0.52",
                      "0.54",
                      "0.56",
                      "0.58"
                     ],
                     "tickvals": [
                      0.5,
                      0.52,
                      0.54,
                      0.56,
                      0.58
                     ],
                     "title": "Ω",
                     "titlefont": {
                      "color": "rgba(0, 0, 0, 1.000)",
                      "family": "sans-serif",
                      "size": 15
                     },
                     "type": "-",
                     "visible": true,
                     "zeroline": false,
                     "zerolinecolor": "rgba(0, 0, 0, 1.000)"
                    }
                   }
                  ]
                 },
                 "_downloadImage": {
                  "id": "10543110097236198985",
                  "sync": false,
                  "value": {}
                 },
                 "_toImage": {
                  "id": "10038460837109651757",
                  "sync": false,
                  "value": {}
                 },
                 "click": {
                  "id": "10803957709797756460",
                  "sync": false,
                  "value": {}
                 },
                 "hover": {
                  "id": "11498644695741798736",
                  "sync": false,
                  "value": {}
                 },
                 "image": {
                  "id": "17701620957833682298",
                  "sync": true,
                  "value": ""
                 },
                 "relayout": {
                  "id": "11718376790370539610",
                  "sync": false,
                  "value": {}
                 },
                 "selected": {
                  "id": "8355197921060111785",
                  "sync": false,
                  "value": {}
                 }
                },
                "systemjs_options": null
               },
               "nodeType": "Scope",
               "props": {},
               "type": "node"
              }
             ],
             "instanceArgs": {
              "namespace": "html",
              "tag": "div"
             },
             "nodeType": "DOM",
             "props": {
              "className": "interact-flex-row interact-widget"
             },
             "type": "node"
            }
           }
          },
          "systemjs_options": null
         },
         "nodeType": "Scope",
         "props": {},
         "type": "node"
        }
       ],
       "instanceArgs": {
        "namespace": "html",
        "tag": "div"
       },
       "nodeType": "DOM",
       "props": {},
       "type": "node"
      },
      "text/html": [
       "<div\n",
       "    class=\"webio-mountpoint\"\n",
       "    data-webio-mountpoint=\"3997731061023279310\"\n",
       ">\n",
       "    <script>\n",
       "    (function(){\n",
       "    // Some integrations (namely, IJulia/Jupyter) use an alternate render pathway than\n",
       "    // just putting the html on the page. If WebIO isn't defined, then it's pretty likely\n",
       "    // that we're in one of those situations and the integration just isn't installed\n",
       "    // correctly.\n",
       "    if (typeof window.WebIO === \"undefined\") {\n",
       "        document\n",
       "            .querySelector('[data-webio-mountpoint=\"3997731061023279310\"]')\n",
       "            .innerHTML = (\n",
       "                '<div style=\"padding: 1em; background-color: #f8d6da; border: 1px solid #f5c6cb; font-weight: bold;\">' +\n",
       "                '<p><strong>WebIO not detected.</strong></p>' +\n",
       "                '<p>Please read ' +\n",
       "                '<a href=\"https://juliagizmos.github.io/WebIO.jl/latest/troubleshooting/not-detected/\" target=\"_blank\">the troubleshooting guide</a> ' +\n",
       "                'for more information on how to resolve this issue.</p>' +\n",
       "                '<p><a href=\"https://juliagizmos.github.io/WebIO.jl/latest/troubleshooting/not-detected/\" target=\"_blank\">https://juliagizmos.github.io/WebIO.jl/latest/troubleshooting/not-detected/</a></p>' +\n",
       "                '</div>'\n",
       "            );\n",
       "        return;\n",
       "    }\n",
       "    WebIO.mount(\n",
       "        document.querySelector('[data-webio-mountpoint=\"3997731061023279310\"]'),\n",
       "        {\"props\":{},\"nodeType\":\"DOM\",\"type\":\"node\",\"instanceArgs\":{\"namespace\":\"html\",\"tag\":\"div\"},\"children\":[{\"props\":{\"className\":\"field interact-widget\"},\"nodeType\":\"DOM\",\"type\":\"node\",\"instanceArgs\":{\"namespace\":\"html\",\"tag\":\"div\"},\"children\":[{\"props\":{},\"nodeType\":\"Scope\",\"type\":\"node\",\"instanceArgs\":{\"imports\":{\"data\":[{\"name\":\"knockout\",\"type\":\"js\",\"url\":\"\\/assetserver\\/4c5ebd06bbb13b44de1de66b59ded31c63790efa-knockout.js\"},{\"name\":\"knockout_punches\",\"type\":\"js\",\"url\":\"\\/assetserver\\/ed4346e66ac07016ba35d67447d190ae18ea2984-knockout_punches.js\"},{\"name\":null,\"type\":\"js\",\"url\":\"\\/assetserver\\/c390c87ac31f4ac3b99592ad67b4011db124ff64-all.js\"},{\"name\":null,\"type\":\"css\",\"url\":\"\\/assetserver\\/398e155eefd60dd6b86ce2e6ce566feec37926e6-style.css\"},{\"name\":null,\"type\":\"css\",\"url\":\"\\/assetserver\\/ecad67a6482c303cd92b9eda9ecf8bbb559ff325-bulma_confined.min.css\"}],\"type\":\"async_block\"},\"id\":\"12026181475476671321\",\"handlers\":{\"changes\":[\"(function (val){return (val!=this.model[\\\"changes\\\"]()) ? (this.valueFromJulia[\\\"changes\\\"]=true, this.model[\\\"changes\\\"](val)) : undefined})\"],\"value\":[\"(function (val){return (val!=this.model[\\\"value\\\"]()) ? (this.valueFromJulia[\\\"value\\\"]=true, this.model[\\\"value\\\"](val)) : undefined})\"]},\"systemjs_options\":null,\"mount_callbacks\":[\"function () {\\n    var handler = (function (ko, koPunches) {\\n    ko.punches.enableAll();\\n    ko.bindingHandlers.numericValue = {\\n        init: function(element, valueAccessor, allBindings, data, context) {\\n            var stringified = ko.observable(ko.unwrap(valueAccessor()));\\n            stringified.subscribe(function(value) {\\n                var val = parseFloat(value);\\n                if (!isNaN(val)) {\\n                    valueAccessor()(val);\\n                }\\n            });\\n            valueAccessor().subscribe(function(value) {\\n                var str = JSON.stringify(value);\\n                if ((str == \\\"0\\\") && ([\\\"-0\\\", \\\"-0.\\\"].indexOf(stringified()) >= 0))\\n                     return;\\n                 if ([\\\"null\\\", \\\"\\\"].indexOf(str) >= 0)\\n                     return;\\n                stringified(str);\\n            });\\n            ko.applyBindingsToNode(\\n                element,\\n                {\\n                    value: stringified,\\n                    valueUpdate: allBindings.get('valueUpdate'),\\n                },\\n                context,\\n            );\\n        }\\n    };\\n    var json_data = {\\\"changes\\\":WebIO.getval({\\\"name\\\":\\\"changes\\\",\\\"scope\\\":\\\"12026181475476671321\\\",\\\"id\\\":\\\"1571590351486094449\\\",\\\"type\\\":\\\"observable\\\"}),\\\"value\\\":WebIO.getval({\\\"name\\\":\\\"value\\\",\\\"scope\\\":\\\"12026181475476671321\\\",\\\"id\\\":\\\"10422970458150235794\\\",\\\"type\\\":\\\"observable\\\"})};\\n    var self = this;\\n    function AppViewModel() {\\n        for (var key in json_data) {\\n            var el = json_data[key];\\n            this[key] = Array.isArray(el) ? ko.observableArray(el) : ko.observable(el);\\n        }\\n        \\n        \\n        [this[\\\"changes\\\"].subscribe((function (val){!(this.valueFromJulia[\\\"changes\\\"]) ? (WebIO.setval({\\\"name\\\":\\\"changes\\\",\\\"scope\\\":\\\"12026181475476671321\\\",\\\"id\\\":\\\"1571590351486094449\\\",\\\"type\\\":\\\"observable\\\"},val)) : undefined; return this.valueFromJulia[\\\"changes\\\"]=false}),self),this[\\\"value\\\"].subscribe((function (val){!(this.valueFromJulia[\\\"value\\\"]) ? (WebIO.setval({\\\"name\\\":\\\"value\\\",\\\"scope\\\":\\\"12026181475476671321\\\",\\\"id\\\":\\\"10422970458150235794\\\",\\\"type\\\":\\\"observable\\\"},val)) : undefined; return this.valueFromJulia[\\\"value\\\"]=false}),self)]\\n        \\n    }\\n    self.model = new AppViewModel();\\n    self.valueFromJulia = {};\\n    for (var key in json_data) {\\n        self.valueFromJulia[key] = false;\\n    }\\n    ko.applyBindings(self.model, self.dom);\\n}\\n);\\n    (WebIO.importBlock({\\\"data\\\":[{\\\"name\\\":\\\"knockout\\\",\\\"type\\\":\\\"js\\\",\\\"url\\\":\\\"\\/assetserver\\/4c5ebd06bbb13b44de1de66b59ded31c63790efa-knockout.js\\\"},{\\\"name\\\":\\\"knockout_punches\\\",\\\"type\\\":\\\"js\\\",\\\"url\\\":\\\"\\/assetserver\\/ed4346e66ac07016ba35d67447d190ae18ea2984-knockout_punches.js\\\"}],\\\"type\\\":\\\"async_block\\\"})).then((imports) => handler.apply(this, imports));\\n}\\n\"],\"observables\":{\"changes\":{\"sync\":false,\"id\":\"1571590351486094449\",\"value\":0},\"value\":{\"sync\":true,\"id\":\"10422970458150235794\",\"value\":1.0}}},\"children\":[{\"props\":{\"className\":\"interact-flex-row interact-widget\"},\"nodeType\":\"DOM\",\"type\":\"node\",\"instanceArgs\":{\"namespace\":\"html\",\"tag\":\"div\"},\"children\":[{\"props\":{\"className\":\"interact-flex-row-left\"},\"nodeType\":\"DOM\",\"type\":\"node\",\"instanceArgs\":{\"namespace\":\"html\",\"tag\":\"div\"},\"children\":[{\"props\":{\"className\":\"interact \",\"style\":{\"padding\":\"5px 10px 0px 10px\"}},\"nodeType\":\"DOM\",\"type\":\"node\",\"instanceArgs\":{\"namespace\":\"html\",\"tag\":\"label\"},\"children\":[\"Semi-major axis a = \"]}]},{\"props\":{\"className\":\"interact-flex-row-center\"},\"nodeType\":\"DOM\",\"type\":\"node\",\"instanceArgs\":{\"namespace\":\"html\",\"tag\":\"div\"},\"children\":[{\"props\":{\"attributes\":{\"type\":\"number\",\"data-bind\":\"numericValue: value, valueUpdate: 'input', event: {change: function (){this.changes(this.changes()+1)}}\"},\"step\":\"any\",\"placeholder\":[0.0,null],\"className\":\"input \",\"style\":{}},\"nodeType\":\"DOM\",\"type\":\"node\",\"instanceArgs\":{\"namespace\":\"html\",\"tag\":\"input\"},\"children\":[]}]},{\"props\":{\"className\":\"interact-flex-row-right\"},\"nodeType\":\"DOM\",\"type\":\"node\",\"instanceArgs\":{\"namespace\":\"html\",\"tag\":\"div\"},\"children\":[{\"props\":{},\"nodeType\":\"DOM\",\"type\":\"node\",\"instanceArgs\":{\"namespace\":\"html\",\"tag\":\"div\"},\"children\":[]}]}]}]}]},{\"props\":{},\"nodeType\":\"Scope\",\"type\":\"node\",\"instanceArgs\":{\"imports\":{\"data\":[],\"type\":\"async_block\"},\"id\":\"1162261928658539902\",\"handlers\":{},\"systemjs_options\":null,\"mount_callbacks\":[],\"observables\":{\"obs-node\":{\"sync\":false,\"id\":\"11429258390517683269\",\"value\":{\"props\":{\"className\":\"interact-flex-row interact-widget\"},\"nodeType\":\"DOM\",\"type\":\"node\",\"instanceArgs\":{\"namespace\":\"html\",\"tag\":\"div\"},\"children\":[{\"props\":{},\"nodeType\":\"Scope\",\"type\":\"node\",\"instanceArgs\":{\"imports\":{\"data\":[{\"name\":\"Plotly\",\"type\":\"js\",\"url\":\"\\/assetserver\\/0e0d11f2478b1ac10d18fbf90f8c6985a2538770-plotly.min.js\"},{\"name\":null,\"type\":\"js\",\"url\":\"\\/assetserver\\/8b55fb41e6fef71c710a0f48e290464834a81aad-plotly_webio.bundle.js\"}],\"type\":\"async_block\"},\"id\":\"9984128860445404024\",\"handlers\":{\"_toImage\":[\"(function (options){return this.Plotly.toImage(this.plotElem,options).then((function (data){return WebIO.setval({\\\"name\\\":\\\"image\\\",\\\"scope\\\":\\\"9984128860445404024\\\",\\\"id\\\":\\\"5983419515573626668\\\",\\\"type\\\":\\\"observable\\\"},data)}))})\"],\"__get_gd_contents\":[\"(function (prop){prop==\\\"data\\\" ? (WebIO.setval({\\\"name\\\":\\\"__gd_contents\\\",\\\"scope\\\":\\\"9984128860445404024\\\",\\\"id\\\":\\\"617440862699978914\\\",\\\"type\\\":\\\"observable\\\"},this.plotElem.data)) : undefined; return prop==\\\"layout\\\" ? (WebIO.setval({\\\"name\\\":\\\"__gd_contents\\\",\\\"scope\\\":\\\"9984128860445404024\\\",\\\"id\\\":\\\"617440862699978914\\\",\\\"type\\\":\\\"observable\\\"},this.plotElem.layout)) : undefined})\"],\"_downloadImage\":[\"(function (options){return this.Plotly.downloadImage(this.plotElem,options)})\"],\"_commands\":[\"(function (args){var fn=args.shift(); var elem=this.plotElem; var Plotly=this.Plotly; args.unshift(elem); return Plotly[fn].apply(this,args)})\"]},\"systemjs_options\":null,\"mount_callbacks\":[\"function () {\\n    var handler = ((function (Plotly,PlotlyWebIO){PlotlyWebIO.init(WebIO); var gd=this.dom.querySelector(\\\"#plot-5bc9e3bb-e83d-4e9d-bda8-59ec6f6a882a\\\"); this.plotElem=gd; this.Plotly=Plotly; (window.Blink!==undefined) ? (gd.style.width=\\\"100%\\\", gd.style.height=\\\"100vh\\\", gd.style.marginLeft=\\\"0%\\\", gd.style.marginTop=\\\"0vh\\\") : undefined; window.onresize=(function (){return Plotly.Plots.resize(gd)}); Plotly.newPlot(gd,[],{\\\"template\\\":{\\\"layout\\\":{\\\"coloraxis\\\":{\\\"colorbar\\\":{\\\"ticks\\\":\\\"\\\",\\\"outlinewidth\\\":0}},\\\"xaxis\\\":{\\\"gridcolor\\\":\\\"white\\\",\\\"zerolinewidth\\\":2,\\\"title\\\":{\\\"standoff\\\":15},\\\"ticks\\\":\\\"\\\",\\\"zerolinecolor\\\":\\\"white\\\",\\\"automargin\\\":true,\\\"linecolor\\\":\\\"white\\\"},\\\"hovermode\\\":\\\"closest\\\",\\\"paper_bgcolor\\\":\\\"white\\\",\\\"geo\\\":{\\\"showlakes\\\":true,\\\"showland\\\":true,\\\"landcolor\\\":\\\"#E5ECF6\\\",\\\"bgcolor\\\":\\\"white\\\",\\\"subunitcolor\\\":\\\"white\\\",\\\"lakecolor\\\":\\\"white\\\"},\\\"colorscale\\\":{\\\"sequential\\\":[[0.0,\\\"#0d0887\\\"],[0.1111111111111111,\\\"#46039f\\\"],[0.2222222222222222,\\\"#7201a8\\\"],[0.3333333333333333,\\\"#9c179e\\\"],[0.4444444444444444,\\\"#bd3786\\\"],[0.5555555555555556,\\\"#d8576b\\\"],[0.6666666666666666,\\\"#ed7953\\\"],[0.7777777777777778,\\\"#fb9f3a\\\"],[0.8888888888888888,\\\"#fdca26\\\"],[1.0,\\\"#f0f921\\\"]],\\\"diverging\\\":[[0,\\\"#8e0152\\\"],[0.1,\\\"#c51b7d\\\"],[0.2,\\\"#de77ae\\\"],[0.3,\\\"#f1b6da\\\"],[0.4,\\\"#fde0ef\\\"],[0.5,\\\"#f7f7f7\\\"],[0.6,\\\"#e6f5d0\\\"],[0.7,\\\"#b8e186\\\"],[0.8,\\\"#7fbc41\\\"],[0.9,\\\"#4d9221\\\"],[1,\\\"#276419\\\"]],\\\"sequentialminus\\\":[[0.0,\\\"#0d0887\\\"],[0.1111111111111111,\\\"#46039f\\\"],[0.2222222222222222,\\\"#7201a8\\\"],[0.3333333333333333,\\\"#9c179e\\\"],[0.4444444444444444,\\\"#bd3786\\\"],[0.5555555555555556,\\\"#d8576b\\\"],[0.6666666666666666,\\\"#ed7953\\\"],[0.7777777777777778,\\\"#fb9f3a\\\"],[0.8888888888888888,\\\"#fdca26\\\"],[1.0,\\\"#f0f921\\\"]]},\\\"yaxis\\\":{\\\"gridcolor\\\":\\\"white\\\",\\\"zerolinewidth\\\":2,\\\"title\\\":{\\\"standoff\\\":15},\\\"ticks\\\":\\\"\\\",\\\"zerolinecolor\\\":\\\"white\\\",\\\"automargin\\\":true,\\\"linecolor\\\":\\\"white\\\"},\\\"shapedefaults\\\":{\\\"line\\\":{\\\"color\\\":\\\"#2a3f5f\\\"}},\\\"hoverlabel\\\":{\\\"align\\\":\\\"left\\\"},\\\"mapbox\\\":{\\\"style\\\":\\\"light\\\"},\\\"polar\\\":{\\\"angularaxis\\\":{\\\"gridcolor\\\":\\\"white\\\",\\\"ticks\\\":\\\"\\\",\\\"linecolor\\\":\\\"white\\\"},\\\"bgcolor\\\":\\\"#E5ECF6\\\",\\\"radialaxis\\\":{\\\"gridcolor\\\":\\\"white\\\",\\\"ticks\\\":\\\"\\\",\\\"linecolor\\\":\\\"white\\\"}},\\\"autotypenumbers\\\":\\\"strict\\\",\\\"font\\\":{\\\"color\\\":\\\"#2a3f5f\\\"},\\\"ternary\\\":{\\\"baxis\\\":{\\\"gridcolor\\\":\\\"white\\\",\\\"ticks\\\":\\\"\\\",\\\"linecolor\\\":\\\"white\\\"},\\\"bgcolor\\\":\\\"#E5ECF6\\\",\\\"caxis\\\":{\\\"gridcolor\\\":\\\"white\\\",\\\"ticks\\\":\\\"\\\",\\\"linecolor\\\":\\\"white\\\"},\\\"aaxis\\\":{\\\"gridcolor\\\":\\\"white\\\",\\\"ticks\\\":\\\"\\\",\\\"linecolor\\\":\\\"white\\\"}},\\\"annotationdefaults\\\":{\\\"arrowhead\\\":0,\\\"arrowwidth\\\":1,\\\"arrowcolor\\\":\\\"#2a3f5f\\\"},\\\"plot_bgcolor\\\":\\\"#E5ECF6\\\",\\\"title\\\":{\\\"x\\\":0.05},\\\"scene\\\":{\\\"xaxis\\\":{\\\"gridcolor\\\":\\\"white\\\",\\\"gridwidth\\\":2,\\\"backgroundcolor\\\":\\\"#E5ECF6\\\",\\\"ticks\\\":\\\"\\\",\\\"showbackground\\\":true,\\\"zerolinecolor\\\":\\\"white\\\",\\\"linecolor\\\":\\\"white\\\"},\\\"zaxis\\\":{\\\"gridcolor\\\":\\\"white\\\",\\\"gridwidth\\\":2,\\\"backgroundcolor\\\":\\\"#E5ECF6\\\",\\\"ticks\\\":\\\"\\\",\\\"showbackground\\\":true,\\\"zerolinecolor\\\":\\\"white\\\",\\\"linecolor\\\":\\\"white\\\"},\\\"yaxis\\\":{\\\"gridcolor\\\":\\\"white\\\",\\\"gridwidth\\\":2,\\\"backgroundcolor\\\":\\\"#E5ECF6\\\",\\\"ticks\\\":\\\"\\\",\\\"showbackground\\\":true,\\\"zerolinecolor\\\":\\\"white\\\",\\\"linecolor\\\":\\\"white\\\"}},\\\"colorway\\\":[\\\"#636efa\\\",\\\"#EF553B\\\",\\\"#00cc96\\\",\\\"#ab63fa\\\",\\\"#FFA15A\\\",\\\"#19d3f3\\\",\\\"#FF6692\\\",\\\"#B6E880\\\",\\\"#FF97FF\\\",\\\"#FECB52\\\"]},\\\"data\\\":{\\\"barpolar\\\":[{\\\"type\\\":\\\"barpolar\\\",\\\"marker\\\":{\\\"line\\\":{\\\"color\\\":\\\"#E5ECF6\\\",\\\"width\\\":0.5}}}],\\\"carpet\\\":[{\\\"aaxis\\\":{\\\"gridcolor\\\":\\\"white\\\",\\\"endlinecolor\\\":\\\"#2a3f5f\\\",\\\"minorgridcolor\\\":\\\"white\\\",\\\"startlinecolor\\\":\\\"#2a3f5f\\\",\\\"linecolor\\\":\\\"white\\\"},\\\"type\\\":\\\"carpet\\\",\\\"baxis\\\":{\\\"gridcolor\\\":\\\"white\\\",\\\"endlinecolor\\\":\\\"#2a3f5f\\\",\\\"minorgridcolor\\\":\\\"white\\\",\\\"startlinecolor\\\":\\\"#2a3f5f\\\",\\\"linecolor\\\":\\\"white\\\"}}],\\\"scatterpolar\\\":[{\\\"type\\\":\\\"scatterpolar\\\",\\\"marker\\\":{\\\"colorbar\\\":{\\\"ticks\\\":\\\"\\\",\\\"outlinewidth\\\":0}}}],\\\"parcoords\\\":[{\\\"line\\\":{\\\"colorbar\\\":{\\\"ticks\\\":\\\"\\\",\\\"outlinewidth\\\":0}},\\\"type\\\":\\\"parcoords\\\"}],\\\"scatter\\\":[{\\\"type\\\":\\\"scatter\\\",\\\"marker\\\":{\\\"colorbar\\\":{\\\"ticks\\\":\\\"\\\",\\\"outlinewidth\\\":0}}}],\\\"histogram2dcontour\\\":[{\\\"colorbar\\\":{\\\"ticks\\\":\\\"\\\",\\\"outlinewidth\\\":0},\\\"type\\\":\\\"histogram2dcontour\\\",\\\"colorscale\\\":[[0.0,\\\"#0d0887\\\"],[0.1111111111111111,\\\"#46039f\\\"],[0.2222222222222222,\\\"#7201a8\\\"],[0.3333333333333333,\\\"#9c179e\\\"],[0.4444444444444444,\\\"#bd3786\\\"],[0.5555555555555556,\\\"#d8576b\\\"],[0.6666666666666666,\\\"#ed7953\\\"],[0.7777777777777778,\\\"#fb9f3a\\\"],[0.8888888888888888,\\\"#fdca26\\\"],[1.0,\\\"#f0f921\\\"]]}],\\\"contour\\\":[{\\\"colorbar\\\":{\\\"ticks\\\":\\\"\\\",\\\"outlinewidth\\\":0},\\\"type\\\":\\\"contour\\\",\\\"colorscale\\\":[[0.0,\\\"#0d0887\\\"],[0.1111111111111111,\\\"#46039f\\\"],[0.2222222222222222,\\\"#7201a8\\\"],[0.3333333333333333,\\\"#9c179e\\\"],[0.4444444444444444,\\\"#bd3786\\\"],[0.5555555555555556,\\\"#d8576b\\\"],[0.6666666666666666,\\\"#ed7953\\\"],[0.7777777777777778,\\\"#fb9f3a\\\"],[0.8888888888888888,\\\"#fdca26\\\"],[1.0,\\\"#f0f921\\\"]]}],\\\"scattercarpet\\\":[{\\\"type\\\":\\\"scattercarpet\\\",\\\"marker\\\":{\\\"colorbar\\\":{\\\"ticks\\\":\\\"\\\",\\\"outlinewidth\\\":0}}}],\\\"mesh3d\\\":[{\\\"colorbar\\\":{\\\"ticks\\\":\\\"\\\",\\\"outlinewidth\\\":0},\\\"type\\\":\\\"mesh3d\\\"}],\\\"surface\\\":[{\\\"colorbar\\\":{\\\"ticks\\\":\\\"\\\",\\\"outlinewidth\\\":0},\\\"type\\\":\\\"surface\\\",\\\"colorscale\\\":[[0.0,\\\"#0d0887\\\"],[0.1111111111111111,\\\"#46039f\\\"],[0.2222222222222222,\\\"#7201a8\\\"],[0.3333333333333333,\\\"#9c179e\\\"],[0.4444444444444444,\\\"#bd3786\\\"],[0.5555555555555556,\\\"#d8576b\\\"],[0.6666666666666666,\\\"#ed7953\\\"],[0.7777777777777778,\\\"#fb9f3a\\\"],[0.8888888888888888,\\\"#fdca26\\\"],[1.0,\\\"#f0f921\\\"]]}],\\\"scattermapbox\\\":[{\\\"type\\\":\\\"scattermapbox\\\",\\\"marker\\\":{\\\"colorbar\\\":{\\\"ticks\\\":\\\"\\\",\\\"outlinewidth\\\":0}}}],\\\"scattergeo\\\":[{\\\"type\\\":\\\"scattergeo\\\",\\\"marker\\\":{\\\"colorbar\\\":{\\\"ticks\\\":\\\"\\\",\\\"outlinewidth\\\":0}}}],\\\"histogram\\\":[{\\\"type\\\":\\\"histogram\\\",\\\"marker\\\":{\\\"colorbar\\\":{\\\"ticks\\\":\\\"\\\",\\\"outlinewidth\\\":0}}}],\\\"pie\\\":[{\\\"type\\\":\\\"pie\\\",\\\"automargin\\\":true}],\\\"choropleth\\\":[{\\\"colorbar\\\":{\\\"ticks\\\":\\\"\\\",\\\"outlinewidth\\\":0},\\\"type\\\":\\\"choropleth\\\"}],\\\"heatmapgl\\\":[{\\\"colorbar\\\":{\\\"ticks\\\":\\\"\\\",\\\"outlinewidth\\\":0},\\\"type\\\":\\\"heatmapgl\\\",\\\"colorscale\\\":[[0.0,\\\"#0d0887\\\"],[0.1111111111111111,\\\"#46039f\\\"],[0.2222222222222222,\\\"#7201a8\\\"],[0.3333333333333333,\\\"#9c179e\\\"],[0.4444444444444444,\\\"#bd3786\\\"],[0.5555555555555556,\\\"#d8576b\\\"],[0.6666666666666666,\\\"#ed7953\\\"],[0.7777777777777778,\\\"#fb9f3a\\\"],[0.8888888888888888,\\\"#fdca26\\\"],[1.0,\\\"#f0f921\\\"]]}],\\\"bar\\\":[{\\\"type\\\":\\\"bar\\\",\\\"error_y\\\":{\\\"color\\\":\\\"#2a3f5f\\\"},\\\"error_x\\\":{\\\"color\\\":\\\"#2a3f5f\\\"},\\\"marker\\\":{\\\"line\\\":{\\\"color\\\":\\\"#E5ECF6\\\",\\\"width\\\":0.5}}}],\\\"heatmap\\\":[{\\\"colorbar\\\":{\\\"ticks\\\":\\\"\\\",\\\"outlinewidth\\\":0},\\\"type\\\":\\\"heatmap\\\",\\\"colorscale\\\":[[0.0,\\\"#0d0887\\\"],[0.1111111111111111,\\\"#46039f\\\"],[0.2222222222222222,\\\"#7201a8\\\"],[0.3333333333333333,\\\"#9c179e\\\"],[0.4444444444444444,\\\"#bd3786\\\"],[0.5555555555555556,\\\"#d8576b\\\"],[0.6666666666666666,\\\"#ed7953\\\"],[0.7777777777777778,\\\"#fb9f3a\\\"],[0.8888888888888888,\\\"#fdca26\\\"],[1.0,\\\"#f0f921\\\"]]}],\\\"contourcarpet\\\":[{\\\"colorbar\\\":{\\\"ticks\\\":\\\"\\\",\\\"outlinewidth\\\":0},\\\"type\\\":\\\"contourcarpet\\\"}],\\\"table\\\":[{\\\"type\\\":\\\"table\\\",\\\"header\\\":{\\\"line\\\":{\\\"color\\\":\\\"white\\\"},\\\"fill\\\":{\\\"color\\\":\\\"#C8D4E3\\\"}},\\\"cells\\\":{\\\"line\\\":{\\\"color\\\":\\\"white\\\"},\\\"fill\\\":{\\\"color\\\":\\\"#EBF0F8\\\"}}}],\\\"scatter3d\\\":[{\\\"line\\\":{\\\"colorbar\\\":{\\\"ticks\\\":\\\"\\\",\\\"outlinewidth\\\":0}},\\\"type\\\":\\\"scatter3d\\\",\\\"marker\\\":{\\\"colorbar\\\":{\\\"ticks\\\":\\\"\\\",\\\"outlinewidth\\\":0}}}],\\\"scattergl\\\":[{\\\"type\\\":\\\"scattergl\\\",\\\"marker\\\":{\\\"colorbar\\\":{\\\"ticks\\\":\\\"\\\",\\\"outlinewidth\\\":0}}}],\\\"histogram2d\\\":[{\\\"colorbar\\\":{\\\"ticks\\\":\\\"\\\",\\\"outlinewidth\\\":0},\\\"type\\\":\\\"histogram2d\\\",\\\"colorscale\\\":[[0.0,\\\"#0d0887\\\"],[0.1111111111111111,\\\"#46039f\\\"],[0.2222222222222222,\\\"#7201a8\\\"],[0.3333333333333333,\\\"#9c179e\\\"],[0.4444444444444444,\\\"#bd3786\\\"],[0.5555555555555556,\\\"#d8576b\\\"],[0.6666666666666666,\\\"#ed7953\\\"],[0.7777777777777778,\\\"#fb9f3a\\\"],[0.8888888888888888,\\\"#fdca26\\\"],[1.0,\\\"#f0f921\\\"]]}],\\\"scatterternary\\\":[{\\\"type\\\":\\\"scatterternary\\\",\\\"marker\\\":{\\\"colorbar\\\":{\\\"ticks\\\":\\\"\\\",\\\"outlinewidth\\\":0}}}],\\\"scatterpolargl\\\":[{\\\"type\\\":\\\"scatterpolargl\\\",\\\"marker\\\":{\\\"colorbar\\\":{\\\"ticks\\\":\\\"\\\",\\\"outlinewidth\\\":0}}}]}},\\\"margin\\\":{\\\"l\\\":50,\\\"b\\\":50,\\\"r\\\":50,\\\"t\\\":60}},{\\\"showLink\\\":false,\\\"editable\\\":false,\\\"responsive\\\":true,\\\"staticPlot\\\":false,\\\"scrollZoom\\\":true}); gd.on(\\\"plotly_hover\\\",(function (data){var filtered_data=WebIO.PlotlyCommands.filterEventData(gd,data,\\\"hover\\\"); return !(filtered_data.isnil) ? (WebIO.setval({\\\"name\\\":\\\"hover\\\",\\\"scope\\\":\\\"9984128860445404024\\\",\\\"id\\\":\\\"9628652918173655750\\\",\\\"type\\\":\\\"observable\\\"},filtered_data.out)) : undefined})); gd.on(\\\"plotly_unhover\\\",(function (){return WebIO.setval({\\\"name\\\":\\\"hover\\\",\\\"scope\\\":\\\"9984128860445404024\\\",\\\"id\\\":\\\"9628652918173655750\\\",\\\"type\\\":\\\"observable\\\"},{})})); gd.on(\\\"plotly_selected\\\",(function (data){var filtered_data=WebIO.PlotlyCommands.filterEventData(gd,data,\\\"selected\\\"); return !(filtered_data.isnil) ? (WebIO.setval({\\\"name\\\":\\\"selected\\\",\\\"scope\\\":\\\"9984128860445404024\\\",\\\"id\\\":\\\"4933827781090393906\\\",\\\"type\\\":\\\"observable\\\"},filtered_data.out)) : undefined})); gd.on(\\\"plotly_deselect\\\",(function (){return WebIO.setval({\\\"name\\\":\\\"selected\\\",\\\"scope\\\":\\\"9984128860445404024\\\",\\\"id\\\":\\\"4933827781090393906\\\",\\\"type\\\":\\\"observable\\\"},{})})); gd.on(\\\"plotly_relayout\\\",(function (data){var filtered_data=WebIO.PlotlyCommands.filterEventData(gd,data,\\\"relayout\\\"); return !(filtered_data.isnil) ? (WebIO.setval({\\\"name\\\":\\\"relayout\\\",\\\"scope\\\":\\\"9984128860445404024\\\",\\\"id\\\":\\\"11973230640791995498\\\",\\\"type\\\":\\\"observable\\\"},filtered_data.out)) : undefined})); return gd.on(\\\"plotly_click\\\",(function (data){var filtered_data=WebIO.PlotlyCommands.filterEventData(gd,data,\\\"click\\\"); return !(filtered_data.isnil) ? (WebIO.setval({\\\"name\\\":\\\"click\\\",\\\"scope\\\":\\\"9984128860445404024\\\",\\\"id\\\":\\\"8973969036449221179\\\",\\\"type\\\":\\\"observable\\\"},filtered_data.out)) : undefined}))}));\\n    (WebIO.importBlock({\\\"data\\\":[{\\\"name\\\":\\\"Plotly\\\",\\\"type\\\":\\\"js\\\",\\\"url\\\":\\\"\\/assetserver\\/0e0d11f2478b1ac10d18fbf90f8c6985a2538770-plotly.min.js\\\"},{\\\"name\\\":null,\\\"type\\\":\\\"js\\\",\\\"url\\\":\\\"\\/assetserver\\/8b55fb41e6fef71c710a0f48e290464834a81aad-plotly_webio.bundle.js\\\"}],\\\"type\\\":\\\"async_block\\\"})).then((imports) => handler.apply(this, imports));\\n}\\n\"],\"observables\":{\"_toImage\":{\"sync\":false,\"id\":\"2139308423179540281\",\"value\":{}},\"hover\":{\"sync\":false,\"id\":\"9628652918173655750\",\"value\":{}},\"selected\":{\"sync\":false,\"id\":\"4933827781090393906\",\"value\":{}},\"__gd_contents\":{\"sync\":false,\"id\":\"617440862699978914\",\"value\":{}},\"click\":{\"sync\":false,\"id\":\"8973969036449221179\",\"value\":{}},\"image\":{\"sync\":true,\"id\":\"5983419515573626668\",\"value\":\"\"},\"__get_gd_contents\":{\"sync\":false,\"id\":\"2952439835424435013\",\"value\":\"\"},\"_downloadImage\":{\"sync\":false,\"id\":\"18338847296436746239\",\"value\":{}},\"relayout\":{\"sync\":false,\"id\":\"11973230640791995498\",\"value\":{}},\"_commands\":{\"sync\":false,\"id\":\"13709832620423909243\",\"value\":[\"update\",{},{\"xaxis\":{\"showticklabels\":true,\"gridwidth\":0.5,\"tickvals\":[0.0,0.25,0.5,0.75,1.0],\"range\":[-0.030000000000000027,1.03],\"domain\":[0.0,0.0],\"mirror\":false,\"tickangle\":0,\"showline\":true,\"ticktext\":[\"0.00\",\"0.25\",\"0.50\",\"0.75\",\"1.00\"],\"zeroline\":false,\"tickfont\":{\"color\":\"rgba(0, 0, 0, 1.000)\",\"family\":\"sans-serif\",\"size\":11},\"zerolinecolor\":\"rgba(0, 0, 0, 1.000)\",\"anchor\":\"y\",\"visible\":true,\"ticks\":\"inside\",\"tickmode\":\"array\",\"linecolor\":\"rgba(0, 0, 0, 1.000)\",\"showgrid\":true,\"title\":\"e\",\"gridcolor\":\"rgba(0, 0, 0, 0.100)\",\"titlefont\":{\"color\":\"rgba(0, 0, 0, 1.000)\",\"family\":\"sans-serif\",\"size\":15},\"tickcolor\":\"rgb(0, 0, 0)\",\"type\":\"-\"},\"paper_bgcolor\":\"rgba(255, 255, 255, 1.000)\",\"template\":{\"data\":{\"scatterpolargl\":[{\"type\":\"scatterpolargl\",\"marker\":{\"colorbar\":{\"ticks\":\"\",\"outlinewidth\":0}}}],\"carpet\":[{\"baxis\":{\"gridcolor\":\"white\",\"endlinecolor\":\"#2a3f5f\",\"minorgridcolor\":\"white\",\"startlinecolor\":\"#2a3f5f\",\"linecolor\":\"white\"},\"type\":\"carpet\",\"aaxis\":{\"gridcolor\":\"white\",\"endlinecolor\":\"#2a3f5f\",\"minorgridcolor\":\"white\",\"startlinecolor\":\"#2a3f5f\",\"linecolor\":\"white\"}}],\"scatterpolar\":[{\"type\":\"scatterpolar\",\"marker\":{\"colorbar\":{\"ticks\":\"\",\"outlinewidth\":0}}}],\"parcoords\":[{\"line\":{\"colorbar\":{\"ticks\":\"\",\"outlinewidth\":0}},\"type\":\"parcoords\"}],\"scatter\":[{\"type\":\"scatter\",\"marker\":{\"colorbar\":{\"ticks\":\"\",\"outlinewidth\":0}}}],\"histogram2dcontour\":[{\"colorbar\":{\"ticks\":\"\",\"outlinewidth\":0},\"type\":\"histogram2dcontour\",\"colorscale\":[[0.0,\"#0d0887\"],[0.1111111111111111,\"#46039f\"],[0.2222222222222222,\"#7201a8\"],[0.3333333333333333,\"#9c179e\"],[0.4444444444444444,\"#bd3786\"],[0.5555555555555556,\"#d8576b\"],[0.6666666666666666,\"#ed7953\"],[0.7777777777777778,\"#fb9f3a\"],[0.8888888888888888,\"#fdca26\"],[1.0,\"#f0f921\"]]}],\"contour\":[{\"colorbar\":{\"ticks\":\"\",\"outlinewidth\":0},\"type\":\"contour\",\"colorscale\":[[0.0,\"#0d0887\"],[0.1111111111111111,\"#46039f\"],[0.2222222222222222,\"#7201a8\"],[0.3333333333333333,\"#9c179e\"],[0.4444444444444444,\"#bd3786\"],[0.5555555555555556,\"#d8576b\"],[0.6666666666666666,\"#ed7953\"],[0.7777777777777778,\"#fb9f3a\"],[0.8888888888888888,\"#fdca26\"],[1.0,\"#f0f921\"]]}],\"scattercarpet\":[{\"type\":\"scattercarpet\",\"marker\":{\"colorbar\":{\"ticks\":\"\",\"outlinewidth\":0}}}],\"mesh3d\":[{\"colorbar\":{\"ticks\":\"\",\"outlinewidth\":0},\"type\":\"mesh3d\"}],\"surface\":[{\"colorbar\":{\"ticks\":\"\",\"outlinewidth\":0},\"type\":\"surface\",\"colorscale\":[[0.0,\"#0d0887\"],[0.1111111111111111,\"#46039f\"],[0.2222222222222222,\"#7201a8\"],[0.3333333333333333,\"#9c179e\"],[0.4444444444444444,\"#bd3786\"],[0.5555555555555556,\"#d8576b\"],[0.6666666666666666,\"#ed7953\"],[0.7777777777777778,\"#fb9f3a\"],[0.8888888888888888,\"#fdca26\"],[1.0,\"#f0f921\"]]}],\"scattermapbox\":[{\"type\":\"scattermapbox\",\"marker\":{\"colorbar\":{\"ticks\":\"\",\"outlinewidth\":0}}}],\"scattergeo\":[{\"type\":\"scattergeo\",\"marker\":{\"colorbar\":{\"ticks\":\"\",\"outlinewidth\":0}}}],\"histogram\":[{\"type\":\"histogram\",\"marker\":{\"colorbar\":{\"ticks\":\"\",\"outlinewidth\":0}}}],\"pie\":[{\"type\":\"pie\",\"automargin\":true}],\"choropleth\":[{\"colorbar\":{\"ticks\":\"\",\"outlinewidth\":0},\"type\":\"choropleth\"}],\"heatmapgl\":[{\"colorbar\":{\"ticks\":\"\",\"outlinewidth\":0},\"type\":\"heatmapgl\",\"colorscale\":[[0.0,\"#0d0887\"],[0.1111111111111111,\"#46039f\"],[0.2222222222222222,\"#7201a8\"],[0.3333333333333333,\"#9c179e\"],[0.4444444444444444,\"#bd3786\"],[0.5555555555555556,\"#d8576b\"],[0.6666666666666666,\"#ed7953\"],[0.7777777777777778,\"#fb9f3a\"],[0.8888888888888888,\"#fdca26\"],[1.0,\"#f0f921\"]]}],\"bar\":[{\"type\":\"bar\",\"error_y\":{\"color\":\"#2a3f5f\"},\"error_x\":{\"color\":\"#2a3f5f\"},\"marker\":{\"line\":{\"color\":\"#E5ECF6\",\"width\":0.5}}}],\"heatmap\":[{\"colorbar\":{\"ticks\":\"\",\"outlinewidth\":0},\"type\":\"heatmap\",\"colorscale\":[[0.0,\"#0d0887\"],[0.1111111111111111,\"#46039f\"],[0.2222222222222222,\"#7201a8\"],[0.3333333333333333,\"#9c179e\"],[0.4444444444444444,\"#bd3786\"],[0.5555555555555556,\"#d8576b\"],[0.6666666666666666,\"#ed7953\"],[0.7777777777777778,\"#fb9f3a\"],[0.8888888888888888,\"#fdca26\"],[1.0,\"#f0f921\"]]}],\"contourcarpet\":[{\"colorbar\":{\"ticks\":\"\",\"outlinewidth\":0},\"type\":\"contourcarpet\"}],\"table\":[{\"type\":\"table\",\"header\":{\"line\":{\"color\":\"white\"},\"fill\":{\"color\":\"#C8D4E3\"}},\"cells\":{\"line\":{\"color\":\"white\"},\"fill\":{\"color\":\"#EBF0F8\"}}}],\"scatter3d\":[{\"line\":{\"colorbar\":{\"ticks\":\"\",\"outlinewidth\":0}},\"type\":\"scatter3d\",\"marker\":{\"colorbar\":{\"ticks\":\"\",\"outlinewidth\":0}}}],\"scattergl\":[{\"type\":\"scattergl\",\"marker\":{\"colorbar\":{\"ticks\":\"\",\"outlinewidth\":0}}}],\"histogram2d\":[{\"colorbar\":{\"ticks\":\"\",\"outlinewidth\":0},\"type\":\"histogram2d\",\"colorscale\":[[0.0,\"#0d0887\"],[0.1111111111111111,\"#46039f\"],[0.2222222222222222,\"#7201a8\"],[0.3333333333333333,\"#9c179e\"],[0.4444444444444444,\"#bd3786\"],[0.5555555555555556,\"#d8576b\"],[0.6666666666666666,\"#ed7953\"],[0.7777777777777778,\"#fb9f3a\"],[0.8888888888888888,\"#fdca26\"],[1.0,\"#f0f921\"]]}],\"scatterternary\":[{\"type\":\"scatterternary\",\"marker\":{\"colorbar\":{\"ticks\":\"\",\"outlinewidth\":0}}}],\"barpolar\":[{\"type\":\"barpolar\",\"marker\":{\"line\":{\"color\":\"#E5ECF6\",\"width\":0.5}}}]},\"layout\":{\"xaxis\":{\"gridcolor\":\"white\",\"zerolinewidth\":2,\"title\":{\"standoff\":15},\"ticks\":\"\",\"zerolinecolor\":\"white\",\"automargin\":true,\"linecolor\":\"white\"},\"hovermode\":\"closest\",\"paper_bgcolor\":\"white\",\"geo\":{\"showlakes\":true,\"showland\":true,\"landcolor\":\"#E5ECF6\",\"bgcolor\":\"white\",\"subunitcolor\":\"white\",\"lakecolor\":\"white\"},\"colorscale\":{\"sequential\":[[0.0,\"#0d0887\"],[0.1111111111111111,\"#46039f\"],[0.2222222222222222,\"#7201a8\"],[0.3333333333333333,\"#9c179e\"],[0.4444444444444444,\"#bd3786\"],[0.5555555555555556,\"#d8576b\"],[0.6666666666666666,\"#ed7953\"],[0.7777777777777778,\"#fb9f3a\"],[0.8888888888888888,\"#fdca26\"],[1.0,\"#f0f921\"]],\"diverging\":[[0,\"#8e0152\"],[0.1,\"#c51b7d\"],[0.2,\"#de77ae\"],[0.3,\"#f1b6da\"],[0.4,\"#fde0ef\"],[0.5,\"#f7f7f7\"],[0.6,\"#e6f5d0\"],[0.7,\"#b8e186\"],[0.8,\"#7fbc41\"],[0.9,\"#4d9221\"],[1,\"#276419\"]],\"sequentialminus\":[[0.0,\"#0d0887\"],[0.1111111111111111,\"#46039f\"],[0.2222222222222222,\"#7201a8\"],[0.3333333333333333,\"#9c179e\"],[0.4444444444444444,\"#bd3786\"],[0.5555555555555556,\"#d8576b\"],[0.6666666666666666,\"#ed7953\"],[0.7777777777777778,\"#fb9f3a\"],[0.8888888888888888,\"#fdca26\"],[1.0,\"#f0f921\"]]},\"yaxis\":{\"gridcolor\":\"white\",\"zerolinewidth\":2,\"title\":{\"standoff\":15},\"ticks\":\"\",\"zerolinecolor\":\"white\",\"automargin\":true,\"linecolor\":\"white\"},\"shapedefaults\":{\"line\":{\"color\":\"#2a3f5f\"}},\"font\":{\"color\":\"#2a3f5f\"},\"annotationdefaults\":{\"arrowhead\":0,\"arrowwidth\":1,\"arrowcolor\":\"#2a3f5f\"},\"plot_bgcolor\":\"#E5ECF6\",\"title\":{\"x\":0.05},\"coloraxis\":{\"colorbar\":{\"ticks\":\"\",\"outlinewidth\":0}},\"hoverlabel\":{\"align\":\"left\"},\"mapbox\":{\"style\":\"light\"},\"polar\":{\"angularaxis\":{\"gridcolor\":\"white\",\"ticks\":\"\",\"linecolor\":\"white\"},\"bgcolor\":\"#E5ECF6\",\"radialaxis\":{\"gridcolor\":\"white\",\"ticks\":\"\",\"linecolor\":\"white\"}},\"autotypenumbers\":\"strict\",\"ternary\":{\"aaxis\":{\"gridcolor\":\"white\",\"ticks\":\"\",\"linecolor\":\"white\"},\"bgcolor\":\"#E5ECF6\",\"caxis\":{\"gridcolor\":\"white\",\"ticks\":\"\",\"linecolor\":\"white\"},\"baxis\":{\"gridcolor\":\"white\",\"ticks\":\"\",\"linecolor\":\"white\"}},\"scene\":{\"xaxis\":{\"gridcolor\":\"white\",\"gridwidth\":2,\"backgroundcolor\":\"#E5ECF6\",\"ticks\":\"\",\"showbackground\":true,\"zerolinecolor\":\"white\",\"linecolor\":\"white\"},\"zaxis\":{\"gridcolor\":\"white\",\"gridwidth\":2,\"backgroundcolor\":\"#E5ECF6\",\"ticks\":\"\",\"showbackground\":true,\"zerolinecolor\":\"white\",\"linecolor\":\"white\"},\"yaxis\":{\"gridcolor\":\"white\",\"gridwidth\":2,\"backgroundcolor\":\"#E5ECF6\",\"ticks\":\"\",\"showbackground\":true,\"zerolinecolor\":\"white\",\"linecolor\":\"white\"}},\"colorway\":[\"#636efa\",\"#EF553B\",\"#00cc96\",\"#ab63fa\",\"#FFA15A\",\"#19d3f3\",\"#FF6692\",\"#B6E880\",\"#FF97FF\",\"#FECB52\"]}},\"height\":400,\"yaxis\":{\"showticklabels\":true,\"gridwidth\":0.5,\"tickvals\":[0.5,0.52,0.54,0.56,0.58],\"range\":[0.4826062131843041,0.5978656160737019],\"domain\":[1.0,1.0],\"mirror\":false,\"tickangle\":0,\"showline\":true,\"ticktext\":[\"0.50\",\"0.52\",\"0.54\",\"0.56\",\"0.58\"],\"zeroline\":false,\"tickfont\":{\"color\":\"rgba(0, 0, 0, 1.000)\",\"family\":\"sans-serif\",\"size\":11},\"zerolinecolor\":\"rgba(0, 0, 0, 1.000)\",\"anchor\":\"x\",\"visible\":true,\"ticks\":\"inside\",\"tickmode\":\"array\",\"linecolor\":\"rgba(0, 0, 0, 1.000)\",\"showgrid\":true,\"title\":\"Ω\",\"gridcolor\":\"rgba(0, 0, 0, 0.100)\",\"titlefont\":{\"color\":\"rgba(0, 0, 0, 1.000)\",\"family\":\"sans-serif\",\"size\":15},\"tickcolor\":\"rgb(0, 0, 0)\",\"type\":\"-\"},\"annotations\":[],\"plot_bgcolor\":\"rgba(255, 255, 255, 1.000)\",\"showlegend\":true,\"legend\":{\"yanchor\":\"bottom\",\"xanchor\":\"left\",\"bordercolor\":\"rgba(0, 0, 0, 1.000)\",\"bgcolor\":\"rgba(255, 255, 255, 1.000)\",\"borderwidth\":1,\"tracegroupgap\":0,\"y\":0.07,\"font\":{\"color\":\"rgba(0, 0, 0, 1.000)\",\"family\":\"sans-serif\",\"size\":11},\"title\":{\"font\":{\"color\":\"rgba(0, 0, 0, 1.000)\",\"family\":\"sans-serif\",\"size\":15},\"text\":\"\"},\"traceorder\":\"normal\",\"x\":0.07},\"margin\":{\"l\":50,\"b\":50,\"r\":50,\"t\":60},\"width\":600}]}}},\"children\":[{\"props\":{\"id\":\"plot-5bc9e3bb-e83d-4e9d-bda8-59ec6f6a882a\"},\"nodeType\":\"DOM\",\"type\":\"node\",\"instanceArgs\":{\"namespace\":\"html\",\"tag\":\"div\"},\"children\":[]}]}]}}}},\"children\":[{\"props\":{},\"nodeType\":\"ObservableNode\",\"type\":\"node\",\"instanceArgs\":{\"id\":\"11429258390517683269\",\"name\":\"obs-node\"},\"children\":[]}]}]},\n",
       "        window,\n",
       "    );\n",
       "    })()\n",
       "    </script>\n",
       "</div>\n"
      ],
      "text/plain": [
       "Node{WebIO.DOM}(WebIO.DOM(:html, :div), Any[Node{WebIO.DOM}(WebIO.DOM(:html, :div), Any[Scope(Node{WebIO.DOM}(WebIO.DOM(:html, :div), Any[Node{WebIO.DOM}(WebIO.DOM(:html, :div), Any[Node{WebIO.DOM}(WebIO.DOM(:html, :label), Any[\"Semi-major axis a = \"], Dict{Symbol, Any}(:className => \"interact \", :style => Dict{Any, Any}(:padding => \"5px 10px 0px 10px\")))], Dict{Symbol, Any}(:className => \"interact-flex-row-left\")), Node{WebIO.DOM}(WebIO.DOM(:html, :div), Any[Node{WebIO.DOM}(WebIO.DOM(:html, :input), Any[], Dict{Symbol, Any}(:attributes => Dict{Any, Any}(:type => \"number\", Symbol(\"data-bind\") => \"numericValue: value, valueUpdate: 'input', event: {change: function (){this.changes(this.changes()+1)}}\"), :step => \"any\", :placeholder => (0.0, Inf), :className => \"input \", :style => Dict{Any, Any}()))], Dict{Symbol, Any}(:className => \"interact-flex-row-center\")), Node{WebIO.DOM}(WebIO.DOM(:html, :div), Any[Node{WebIO.DOM}(WebIO.DOM(:html, :div), Any[], Dict{Symbol, Any}())], Dict{Symbol, Any}(:className => \"interact-flex-row-right\"))], Dict{Symbol, Any}(:className => \"interact-flex-row interact-widget\")), Dict{String, Tuple{AbstractObservable, Union{Nothing, Bool}}}(\"changes\" => (Observable(0), nothing), \"value\" => (Observable{Union{Nothing, Float64}}(1.0), nothing)), Set{String}(), nothing, Asset[Asset(\"js\", \"knockout\", \"/Users/mathieuroule/.julia/packages/Knockout/HReiN/src/../assets/knockout.js\"), Asset(\"js\", \"knockout_punches\", \"/Users/mathieuroule/.julia/packages/Knockout/HReiN/src/../assets/knockout_punches.js\"), Asset(\"js\", nothing, \"/Users/mathieuroule/.julia/packages/InteractBase/Qhvxg/src/../assets/all.js\"), Asset(\"css\", nothing, \"/Users/mathieuroule/.julia/packages/InteractBase/Qhvxg/src/../assets/style.css\"), Asset(\"css\", nothing, \"/Users/mathieuroule/.julia/packages/Interact/PENUy/src/../assets/bulma_confined.min.css\")], Dict{Any, Any}(\"changes\" => Any[WebIO.JSString(\"(function (val){return (val!=this.model[\\\"changes\\\"]()) ? (this.valueFromJulia[\\\"changes\\\"]=true, this.model[\\\"changes\\\"](val)) : undefined})\")], \"value\" => Any[WebIO.JSString(\"(function (val){return (val!=this.model[\\\"value\\\"]()) ? (this.valueFromJulia[\\\"value\\\"]=true, this.model[\\\"value\\\"](val)) : undefined})\")]), WebIO.ConnectionPool(Channel{Any}(32), Set{AbstractConnection}(), Condition(Base.InvasiveLinkedList{Task}(Task (runnable) @0x000000016388fb00, Task (runnable) @0x000000016388fb00), Base.AlwaysLockedST(1))), WebIO.JSString[WebIO.JSString(\"function () {\\n    var handler = (function (ko, koPunches) {\\n    ko.punches.enableAll();\\n    ko.bindingHandlers.numericValue = {\\n        init: function(element, valueAccessor, allBindings, data, context) {\\n            var stringified = ko.observable(ko.unwrap(valueAccessor()));\\n            stringified.subscribe(function(value) {\\n                var val = parseFloat(value);\\n                if (!isNaN(val)) {\\n                    valueAccessor()(val);\\n                }\\n            });\\n            valueAccessor().subscribe(function(value) {\\n                var str = JSON.stringify(value);\\n                if ((str == \\\"0\\\") && ([\\\"-0\\\", \\\"-0.\\\"].indexOf(stringified()) >= 0))\\n                     return;\\n                 if ([\\\"null\\\", \\\"\\\"].indexOf(str) >= 0)\\n                     return;\\n                stringified(str);\\n            });\\n            ko.applyBindingsToNode(\\n                element,\\n                {\\n                    value: stringified,\\n                    valueUpdate: allBindings.get('valueUpdate'),\\n                },\\n                context,\\n            );\\n        }\\n    };\\n    var json_data = {\\\"changes\\\":WebIO.getval({\\\"name\\\":\\\"changes\\\",\\\"scope\\\":\\\"12026181475476671321\\\",\\\"id\\\":\\\"1571590351486094449\\\",\\\"type\\\":\\\"observable\\\"}),\\\"value\\\":WebIO.getval({\\\"name\\\":\\\"value\\\",\\\"scope\\\":\\\"12026181475476671321\\\",\\\"id\\\":\\\"10422970458150235794\\\",\\\"type\\\":\\\"observable\\\"})};\\n    var self = this;\\n    function AppViewModel() {\\n        for (var key in json_data) {\\n            var el = json_data[key];\\n            this[key] = Array.isArray(el) ? ko.observableArray(el) : ko.observable(el);\\n        }\\n        \\n        \\n        [this[\\\"changes\\\"].subscribe((function (val){!(this.valueFromJulia[\\\"changes\\\"]) ? (WebIO.setval({\\\"name\\\":\\\"changes\\\",\\\"scope\\\":\\\"12026181475476671321\\\",\\\"id\\\":\\\"1571590351486094449\\\",\\\"type\\\":\\\"observable\\\"},val)) : undefined; return this.valueFromJulia[\\\"changes\\\"]=false}),self),this[\\\"value\\\"].subscribe((function (val){!(this.valueFromJulia[\\\"value\\\"]) ? (WebIO.setval({\\\"name\\\":\\\"value\\\",\\\"scope\\\":\\\"12026181475476671321\\\",\\\"id\\\":\\\"10422970458150235794\\\",\\\"type\\\":\\\"observable\\\"},val)) : undefined; return this.valueFromJulia[\\\"value\\\"]=false}),self)]\\n        \\n    }\\n    self.model = new AppViewModel();\\n    self.valueFromJulia = {};\\n    for (var key in json_data) {\\n        self.valueFromJulia[key] = false;\\n    }\\n    ko.applyBindings(self.model, self.dom);\\n}\\n);\\n    (WebIO.importBlock({\\\"data\\\":[{\\\"name\\\":\\\"knockout\\\",\\\"type\\\":\\\"js\\\",\\\"url\\\":\\\"/assetserver/4c5ebd06bbb13b44de1de66b59ded31c63790efa-knockout.js\\\"},{\\\"name\\\":\\\"knockout_punches\\\",\\\"type\\\":\\\"js\\\",\\\"url\\\":\\\"/assetserver/ed4346e66ac07016ba35d67447d190ae18ea2984-knockout_punches.js\\\"}],\\\"type\\\":\\\"async_block\\\"})).then((imports) => handler.apply(this, imports));\\n}\\n\")])], Dict{Symbol, Any}(:className => \"field interact-widget\")), Observable(Node{WebIO.DOM}(WebIO.DOM(:html, :div), Any[Plot{Plots.PlotlyJSBackend() n=2}], Dict{Symbol, Any}(:className => \"interact-flex-row interact-widget\")))], Dict{Symbol, Any}())"
      ]
     },
     "execution_count": 12,
     "metadata": {
      "application/vnd.webio.node+json": {
       "kernelId": "9f5dd034-e4fc-4591-a347-ad4fdcfc2152"
      }
     },
     "output_type": "execute_result"
    }
   ],
   "source": [
    "@manipulate for a=spinbox((0.0,Inf),label=\"Semi-major axis a = \",value=1.0,step=\"any\")\n",
    "    FrequenciesE!(a,tabe,tabΩ)\n",
    "    IsochroneFrequenciesE!(a,tabe,tabΩIso)\n",
    "    \n",
    "    plot(tabe,tabΩ[1,:],label=\"Numerical\")\n",
    "    plot!(tabe,tabΩIso[1,:],label=\"True\")\n",
    "    xlabel!(\"e\")\n",
    "    ylabel!(\"Ω\")\n",
    "    plot!(legend=:bottomleft, legendcolumns=2)\n",
    "end"
   ]
  },
  {
   "cell_type": "code",
   "execution_count": null,
   "id": "45842acb",
   "metadata": {},
   "outputs": [],
   "source": []
  }
 ],
 "metadata": {
  "@webio": {
   "lastCommId": "b3a9b3b4cc1d436e81e7767578d258b7",
   "lastKernelId": "9f5dd034-e4fc-4591-a347-ad4fdcfc2152"
  },
  "kernelspec": {
   "display_name": "Julia 1.7.1",
   "language": "julia",
   "name": "julia-1.7"
  },
  "language_info": {
   "file_extension": ".jl",
   "mimetype": "application/julia",
   "name": "julia",
   "version": "1.7.1"
  }
 },
 "nbformat": 4,
 "nbformat_minor": 5
}
