{
 "cells": [
  {
   "cell_type": "markdown",
   "id": "11a0ec0e",
   "metadata": {},
   "source": [
    "# OrbitalElements interactive examples"
   ]
  },
  {
   "cell_type": "markdown",
   "id": "a70f664f",
   "metadata": {},
   "source": [
    "## Working environment & Packages"
   ]
  },
  {
   "cell_type": "markdown",
   "id": "8b315321",
   "metadata": {},
   "source": [
    "Set the working environment to the repository root."
   ]
  },
  {
   "cell_type": "code",
   "execution_count": null,
   "id": "ca995578",
   "metadata": {},
   "outputs": [],
   "source": [
    "using Plots;\n",
    "plotlyjs();"
   ]
  },
  {
   "cell_type": "code",
   "execution_count": null,
   "id": "5a58dae7",
   "metadata": {},
   "outputs": [],
   "source": [
    "using Pkg\n",
    "Pkg.activate(@__DIR__()*\"/../.\")\n",
    "import OrbitalElements as OE"
   ]
  },
  {
   "cell_type": "markdown",
   "id": "5a32ab46",
   "metadata": {},
   "source": [
    "# Generic parameters"
   ]
  },
  {
   "cell_type": "markdown",
   "id": "2a31ebd5",
   "metadata": {},
   "source": [
    "## Potential"
   ]
  },
  {
   "cell_type": "code",
   "execution_count": null,
   "id": "cc8c139d",
   "metadata": {},
   "outputs": [],
   "source": [
    "G, M, bc = 1.0, 1.0, 1.0\n",
    "ψ(r::Float64)   = OE.ψIsochrone(r,bc,M,G)\n",
    "dψ(r::Float64)  = OE.dψIsochrone(r,bc,M,G)\n",
    "d2ψ(r::Float64) = OE.d2ψIsochrone(r,bc,M,G)\n",
    "Ω₀ = OE.Ω₀Isochrone(bc,M,G);"
   ]
  },
  {
   "cell_type": "markdown",
   "id": "4be6ab38",
   "metadata": {},
   "source": [
    "## Parameters"
   ]
  },
  {
   "cell_type": "code",
   "execution_count": null,
   "id": "47e1355b",
   "metadata": {},
   "outputs": [],
   "source": [
    "# Radii for frequency truncations\n",
    "rmin, rmax = 0.1, 100.0\n",
    "# Tolerances / Taylor expansions\n",
    "EDGE = 0.01\n",
    "TOLECC = 0.01\n",
    "TOLA = 1.0\n",
    "NINT = 32\n",
    "\n",
    "params = OE.OrbitalParameters(Ω₀=Ω₀,rmin=rmin,rmax=rmax,\n",
    "                                            EDGE=EDGE,TOLA=TOLA,TOLECC=TOLECC,\n",
    "                                            NINT=NINT);"
   ]
  },
  {
   "cell_type": "markdown",
   "id": "ddd3632c",
   "metadata": {},
   "source": [
    "# Frequency computation"
   ]
  },
  {
   "cell_type": "markdown",
   "id": "860266cb",
   "metadata": {},
   "source": [
    "Frequency values along a constant eccentricity line. Example using the isochrone potential for which analytical expression of the frequencies are known. Comparing analytical and numerical results."
   ]
  },
  {
   "cell_type": "code",
   "execution_count": null,
   "id": "495e8e9f",
   "metadata": {},
   "outputs": [],
   "source": [
    "function FrequenciesE!(a::Float64,\n",
    "                      tabe::Vector{Float64},\n",
    "                      results::Array{Float64})\n",
    "    @assert size(results) == (2,length(tabe))\n",
    "    for j=1:ne\n",
    "        Ω1, Ω2 = OE.ComputeFrequenciesAE(ψ,dψ,d2ψ,a,tabe[j],params)\n",
    "        @inbounds results[1,j], results[2,j] = Ω1, Ω2\n",
    "    end\n",
    "end;\n",
    "function IsochroneFrequenciesE!(a::Float64,\n",
    "                      tabe::Vector{Float64},\n",
    "                      results::Array{Float64})\n",
    "    @assert size(results) == (2,length(tabe))\n",
    "    for j=1:ne\n",
    "        Ω1true, Ω2true = OE.IsochroneOmega12FromAE(a,tabe[j])\n",
    "        @inbounds results[1,j], results[2,j] = Ω1true, Ω2true\n",
    "    end\n",
    "end;"
   ]
  },
  {
   "cell_type": "code",
   "execution_count": null,
   "id": "ff2c25ba",
   "metadata": {},
   "outputs": [],
   "source": [
    "ne = 200;\n",
    "tabe = collect(LinRange(0.,1.,ne));\n",
    "tabΩ = zeros(2,ne);\n",
    "tabΩIso = zeros(2,ne);"
   ]
  },
  {
   "cell_type": "code",
   "execution_count": null,
   "id": "1031786c",
   "metadata": {},
   "outputs": [],
   "source": [
    "a = 1.0\n",
    "\n",
    "# Compute\n",
    "FrequenciesE!(a,tabe,tabΩ)\n",
    "IsochroneFrequenciesE!(a,tabe,tabΩIso)\n",
    "\n",
    "# Plot\n",
    "xlabelΩ = [\"e\" \"e\"]\n",
    "ylabelΩ = [\"Ω1\" \"Ω2\"]\n",
    "p1 = plot(tabe,tabΩ[1,:],xlabel=xlabelΩ[1],ylabel=ylabelΩ[1],label=\"Numerical\");\n",
    "plot!(tabe,tabΩIso[1,:],label=\"True\")\n",
    "p2 = plot(tabe,tabΩ[2,:],xlabel=xlabelΩ[2],ylabel=ylabelΩ[2],label=false);\n",
    "plot!(tabe,tabΩIso[2,:],label=false)\n",
    "plot(p1,p2,layout=(1,2),size=(900,300))"
   ]
  },
  {
   "cell_type": "markdown",
   "id": "b83b4cff",
   "metadata": {},
   "source": [
    "# Frequency derivatives computation"
   ]
  },
  {
   "cell_type": "markdown",
   "id": "554fe759",
   "metadata": {},
   "source": [
    "Frequency values along a constant eccentricity line. Example using the isochrone potential for which analytical expression of the frequencies are known. Comparing analytical and numerical results."
   ]
  },
  {
   "cell_type": "code",
   "execution_count": null,
   "id": "ae572dbd",
   "metadata": {},
   "outputs": [],
   "source": [
    "function FrequenciesDerivE!(a::Float64,\n",
    "                      tabe::Vector{Float64},\n",
    "                      results::Array{Float64})\n",
    "    @assert size(results) == (6,length(tabe))\n",
    "    for j=1:ne\n",
    "        Ω1, Ω2, ∂Ω1∂a, ∂Ω2∂a, ∂Ω1∂e, ∂Ω2∂e = OE.ComputeFrequenciesAEWithDeriv(ψ,dψ,d2ψ,a,tabe[j],params)\n",
    "        @inbounds results[1,j], results[2,j], results[3,j], results[4,j], results[5,j], results[6,j]= Ω1, Ω2, ∂Ω1∂a, ∂Ω2∂a, ∂Ω1∂e, ∂Ω2∂e\n",
    "    end\n",
    "end;"
   ]
  },
  {
   "cell_type": "code",
   "execution_count": null,
   "id": "a51297f5",
   "metadata": {},
   "outputs": [],
   "source": [
    "ne = 200;\n",
    "tabe = collect(LinRange(0.,1.,ne));\n",
    "tabderΩ = zeros(6,ne);"
   ]
  },
  {
   "cell_type": "code",
   "execution_count": null,
   "id": "90a60d33",
   "metadata": {},
   "outputs": [],
   "source": [
    "a = 1.0\n",
    "\n",
    "# Compute\n",
    "FrequenciesDerivE!(a,tabe,tabderΩ)\n",
    "\n",
    "# Plot\n",
    "xlabelderΩ = [\"\" \"\" \"\" \"\" \"e\" \"e\"]\n",
    "ylabelderΩ = [\"Ω1\" \"Ω2\" \"∂Ω1∂a\" \"∂Ω2∂a\" \"∂Ω1∂e\" \"∂Ω2∂e\"]\n",
    "plot(tabe,transpose(tabderΩ),layout=(3,2),xlabel=xlabelderΩ,ylabel=ylabelderΩ,legend=false,size=(900,600))"
   ]
  },
  {
   "cell_type": "markdown",
   "id": "b5c146a4",
   "metadata": {},
   "source": [
    "# Energy, angular momentum and derivatives computation"
   ]
  },
  {
   "cell_type": "code",
   "execution_count": null,
   "id": "cf66c220",
   "metadata": {},
   "outputs": [],
   "source": [
    "function ELDerivE!(a::Float64,\n",
    "                      tabe::Vector{Float64},\n",
    "                      results::Array{Float64})\n",
    "    @assert size(results) == (6,length(tabe))\n",
    "    for j=1:ne\n",
    "        E, L, ∂E∂a, ∂L∂a, ∂E∂e, ∂L∂e = OE.ComputeELAEWithDeriv(ψ,dψ,a,tabe[j],params)\n",
    "        @inbounds results[1,j], results[2,j], results[3,j], results[4,j], results[5,j], results[6,j]= E, L, ∂E∂a, ∂L∂a, ∂E∂e, ∂L∂e\n",
    "    end\n",
    "end;"
   ]
  },
  {
   "cell_type": "code",
   "execution_count": null,
   "id": "61d983f4",
   "metadata": {},
   "outputs": [],
   "source": [
    "ne = 200;\n",
    "tabe = collect(LinRange(0.,1.,ne));\n",
    "tabderEL = zeros(6,ne);"
   ]
  },
  {
   "cell_type": "code",
   "execution_count": null,
   "id": "d1049a26",
   "metadata": {},
   "outputs": [],
   "source": [
    "a = 1.0\n",
    "\n",
    "# Compute\n",
    "ELDerivE!(a,tabe,tabderEL)\n",
    "\n",
    "# Plot\n",
    "xlabelEL = [\"\" \"\" \"\" \"\" \"e\" \"e\"]\n",
    "ylabelEL = [\"E\" \"L\" \"∂E∂a\" \"∂L∂a\" \"∂E∂e\" \"∂L∂e\"]\n",
    "plot(tabe,transpose(tabderEL),layout=(3,2),xlabel=xlabelEL,ylabel=ylabelEL,legend=false,size=(900,600))"
   ]
  },
  {
   "cell_type": "markdown",
   "id": "bedc2cec",
   "metadata": {},
   "source": [
    "# Inversions"
   ]
  },
  {
   "cell_type": "code",
   "execution_count": null,
   "id": "21dab7ff",
   "metadata": {},
   "outputs": [],
   "source": [
    "na, ne = 100, 101;\n",
    "amin, amax = 0.01, 10.;\n",
    "taba = collect(LinRange(amin,amax,na));\n",
    "tabe = collect(LinRange(0.,1.,ne));\n",
    "\n",
    "tabAE = zeros(Float64,2,na*ne);\n",
    "restabAE = zeros(Float64,2,na*ne);\n",
    "errtabAE = zeros(Float64,na,ne);"
   ]
  },
  {
   "cell_type": "markdown",
   "id": "cc69217e",
   "metadata": {},
   "source": [
    "## (a,e) &harr; (E,L) "
   ]
  },
  {
   "cell_type": "code",
   "execution_count": null,
   "id": "58d9cc4b",
   "metadata": {},
   "outputs": [],
   "source": [
    "tabEL = zeros(Float64,2,na*ne);"
   ]
  },
  {
   "cell_type": "code",
   "execution_count": null,
   "id": "e7dc740a",
   "metadata": {},
   "outputs": [],
   "source": [
    "function AEToELmapping(taba::Vector{Float64},tabe::Vector{Float64},tabAE::Matrix{Float64},\n",
    "                       restabAE::Matrix{Float64},tabEL::Matrix{Float64},taberr::Matrix{Float64})\n",
    "    \n",
    "    na, ne = length(taba), length(tabe)\n",
    "    \n",
    "    count = 1\n",
    "    for ka = 1:na\n",
    "        for ke = 1:ne\n",
    "            a, e = taba[ka], tabe[ke]\n",
    "            \n",
    "            E, L = OE.ELFromAE(ψ,dψ,a,e,params)\n",
    "            aback, eback = OE.ComputeAEFromEL(ψ,dψ,E,L,params)\n",
    "            \n",
    "            tabAE[1,count], tabAE[2,count] = a, e \n",
    "            tabEL[1,count], tabEL[2,count] = E, L\n",
    "            restabAE[1,count], restabAE[2,count] = aback, eback\n",
    "            taberr[ka,ke] = abs((aback-a)/a) + abs(eback-e)\n",
    "            \n",
    "            count += 1\n",
    "        end\n",
    "    end\n",
    "end;"
   ]
  },
  {
   "cell_type": "code",
   "execution_count": null,
   "id": "0b676f09",
   "metadata": {},
   "outputs": [],
   "source": [
    "AEToELmapping(taba,tabe,tabAE,restabAE,tabEL,errtabAE)"
   ]
  },
  {
   "cell_type": "code",
   "execution_count": null,
   "id": "8b8c8a48",
   "metadata": {},
   "outputs": [],
   "source": [
    "# (E,L) space shape\n",
    "scatter(tabEL[2,:],tabEL[1,:],markersize=0.01)"
   ]
  },
  {
   "cell_type": "code",
   "execution_count": null,
   "id": "51f8f914",
   "metadata": {},
   "outputs": [],
   "source": [
    "# (a,e)->(E,L)->(a,e) result\n",
    "scatter(restabAE[1,:],restabAE[2,:],markersize=0.01)"
   ]
  },
  {
   "cell_type": "code",
   "execution_count": null,
   "id": "f3f9b284",
   "metadata": {
    "scrolled": false
   },
   "outputs": [],
   "source": [
    "# Error made on (a,e)->(E,L)->(a,e) in log scale\n",
    "# Trouble for radial orbits and close to the center\n",
    "heatmap(taba,tabe,transpose(log10.(errtabAE)))"
   ]
  },
  {
   "cell_type": "markdown",
   "id": "d90d7887",
   "metadata": {},
   "source": [
    "## (a,e) &harr; (Jr,L) "
   ]
  },
  {
   "cell_type": "code",
   "execution_count": null,
   "id": "ebbf1a7a",
   "metadata": {},
   "outputs": [],
   "source": [
    "tabJL = zeros(Float64,2,na*ne);"
   ]
  },
  {
   "cell_type": "code",
   "execution_count": null,
   "id": "7aae3d46",
   "metadata": {},
   "outputs": [],
   "source": [
    "function AEToActionsmapping(taba::Vector{Float64},tabe::Vector{Float64},tabAE::Matrix{Float64},\n",
    "                       restabAE::Matrix{Float64},tabJL::Matrix{Float64},taberr::Matrix{Float64})\n",
    "    \n",
    "    na, ne = length(taba), length(tabe)\n",
    "    \n",
    "    count = 1\n",
    "    for ka = 1:na\n",
    "        for ke = 1:ne\n",
    "            a, e = taba[ka], tabe[ke]\n",
    "            \n",
    "            J, L = OE.ComputeActionsAE(ψ,dψ,a,e,params)\n",
    "            aback, eback = OE.ComputeAEFromActions(ψ,dψ,J,L,params)\n",
    "            \n",
    "            tabAE[1,count], tabAE[2,count] = a, e \n",
    "            tabJL[1,count], tabJL[2,count] = J, L\n",
    "            restabAE[1,count], restabAE[2,count] = aback, eback\n",
    "            taberr[ka,ke] = abs((aback-a)/a) + abs(eback-e)\n",
    "            \n",
    "            count += 1\n",
    "        end\n",
    "    end\n",
    "end;"
   ]
  },
  {
   "cell_type": "code",
   "execution_count": null,
   "id": "72175fb5",
   "metadata": {},
   "outputs": [],
   "source": [
    "AEToActionsmapping(taba,tabe,tabAE,restabAE,tabJL,errtabAE)"
   ]
  },
  {
   "cell_type": "code",
   "execution_count": null,
   "id": "f318a4da",
   "metadata": {},
   "outputs": [],
   "source": [
    "# J,L space shape\n",
    "scatter(tabJL[2,:],tabJL[1,:],markersize=0.01)"
   ]
  },
  {
   "cell_type": "code",
   "execution_count": null,
   "id": "438a3490",
   "metadata": {},
   "outputs": [],
   "source": [
    "# (a,e)->(J,L)->(a,e) result\n",
    "scatter(restabAE[1,:],restabAE[2,:],markersize=0.01)"
   ]
  },
  {
   "cell_type": "code",
   "execution_count": null,
   "id": "5eac5777",
   "metadata": {},
   "outputs": [],
   "source": [
    "# Error made on (a,e)->(J,L)->(a,e) in log scale\n",
    "# Trouble for radial orbits and close to the center\n",
    "heatmap(taba,tabe,transpose(log10.(errtabAE)))"
   ]
  },
  {
   "cell_type": "markdown",
   "id": "71e9e4d8",
   "metadata": {},
   "source": [
    "## (a,e) &harr; ($\\Omega$1,$\\Omega$2) "
   ]
  },
  {
   "cell_type": "code",
   "execution_count": null,
   "id": "48cdf0d1",
   "metadata": {},
   "outputs": [],
   "source": [
    "tabΩ1Ω2 = zeros(Float64,2,na*ne);"
   ]
  },
  {
   "cell_type": "code",
   "execution_count": null,
   "id": "99b73ec0",
   "metadata": {},
   "outputs": [],
   "source": [
    "function AEToFrequenciesmapping(taba::Vector{Float64},tabe::Vector{Float64},tabAE::Matrix{Float64},\n",
    "                       restabAE::Matrix{Float64},tabΩ1Ω2::Matrix{Float64},taberr::Matrix{Float64})\n",
    "    \n",
    "    na, ne = length(taba), length(tabe)\n",
    "    \n",
    "    count = 1\n",
    "    for ka = 1:na\n",
    "        for ke = 1:ne\n",
    "            a, e = taba[ka], tabe[ke]\n",
    "            \n",
    "            Ω1, Ω2 = OE.ComputeFrequenciesAE(ψ,dψ,d2ψ,a,e,params)\n",
    "            aback, eback = OE.ComputeAEFromFrequencies(ψ,dψ,d2ψ,Ω1,Ω2,params)\n",
    "            \n",
    "            tabAE[1,count], tabAE[2,count] = a, e \n",
    "            tabΩ1Ω2[1,count], tabΩ1Ω2[2,count] = Ω1, Ω2\n",
    "            restabAE[1,count], restabAE[2,count] = aback, eback\n",
    "            taberr[ka,ke] = abs((aback-a)/a) + abs(eback-e)\n",
    "            \n",
    "            count += 1\n",
    "        end\n",
    "    end\n",
    "end;"
   ]
  },
  {
   "cell_type": "code",
   "execution_count": null,
   "id": "6aff9c5d",
   "metadata": {},
   "outputs": [],
   "source": [
    "AEToFrequenciesmapping(taba,tabe,tabAE,restabAE,tabΩ1Ω2,errtabAE)"
   ]
  },
  {
   "cell_type": "code",
   "execution_count": null,
   "id": "a6ef8550",
   "metadata": {},
   "outputs": [],
   "source": [
    "# Frequencies space shape\n",
    "scatter(tabΩ1Ω2[1,:],tabΩ1Ω2[2,:],markersize=0.01)"
   ]
  },
  {
   "cell_type": "code",
   "execution_count": null,
   "id": "b3e18587",
   "metadata": {},
   "outputs": [],
   "source": [
    "# (a,e)->(Ω1,Ω2)->(a,e) result\n",
    "scatter(restabAE[1,:],restabAE[2,:],markersize=0.01)"
   ]
  },
  {
   "cell_type": "code",
   "execution_count": null,
   "id": "3c582622",
   "metadata": {},
   "outputs": [],
   "source": [
    "# Error made on (a,e)->(Ω1,Ω2)->(a,e) in log scale\n",
    "# Trouble for radial orbits and close to the center\n",
    "heatmap(taba,tabe,transpose(log10.(errtabAE)))"
   ]
  },
  {
   "cell_type": "markdown",
   "id": "ccdc1778",
   "metadata": {},
   "source": [
    "# Resonance variables"
   ]
  },
  {
   "cell_type": "code",
   "execution_count": null,
   "id": "e1fed042",
   "metadata": {},
   "outputs": [],
   "source": []
  }
 ],
 "metadata": {
  "@webio": {
   "lastCommId": null,
   "lastKernelId": null
  },
  "kernelspec": {
   "display_name": "Julia 1.7.1",
   "language": "julia",
   "name": "julia-1.7"
  },
  "language_info": {
   "file_extension": ".jl",
   "mimetype": "application/julia",
   "name": "julia",
   "version": "1.7.1"
  }
 },
 "nbformat": 4,
 "nbformat_minor": 5
}
