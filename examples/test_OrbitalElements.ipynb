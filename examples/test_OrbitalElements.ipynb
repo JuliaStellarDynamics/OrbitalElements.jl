{
 "cells": [
  {
   "cell_type": "markdown",
   "id": "11a0ec0e",
   "metadata": {},
   "source": [
    "# OrbitalElements example"
   ]
  },
  {
   "cell_type": "markdown",
   "metadata": {},
   "source": [
    "Welcome in the `JuliaStellarDynamics` user community. This example notebook should help you through your first interaction with the `OrbitalElements` library."
   ]
  },
  {
   "cell_type": "markdown",
   "id": "a70f664f",
   "metadata": {},
   "source": [
    "## Packages management"
   ]
  },
  {
   "cell_type": "markdown",
   "id": "8b315321",
   "metadata": {},
   "source": [
    "Installing the necessary libraries. This only has to be run once (or never if they already are installed in your environment or project)."
   ]
  },
  {
   "cell_type": "code",
   "execution_count": null,
   "metadata": {},
   "outputs": [],
   "source": [
    "using Pkg\n",
    "# If you want to work in a particular environment/project, \n",
    "# fill and uncomment the following line\n",
    "# Pkg.activate(/path/to/my_env)\n",
    "# You could also add the AstroBasis library at this stage (if not already done), \n",
    "# by uncommenting the following line\n",
    "# Pkg.add(url=\"https://github.com/JuliaStellarDynamics/OrbitalElements.jl.git\")\n",
    "Pkg.add([\"Plots\",\"LaTeXStrings\",\"PlotlyJS\"])"
   ]
  },
  {
   "cell_type": "markdown",
   "metadata": {},
   "source": [
    "Importing these libraries in the main context."
   ]
  },
  {
   "cell_type": "code",
   "execution_count": null,
   "id": "ca995578",
   "metadata": {},
   "outputs": [],
   "source": [
    "using Plots;\n",
    "# Using PlotlyJS as backend for plots for interactivity.\n",
    "# Might fail in some notebook environments.\n",
    "# Comment and use default backend if it does.\n",
    "plotlyjs();\n",
    "using OrbitalElements"
   ]
  },
  {
   "cell_type": "markdown",
   "id": "5a32ab46",
   "metadata": {},
   "source": [
    "# Simple computations"
   ]
  },
  {
   "cell_type": "code",
   "execution_count": null,
   "id": "cc8c139d",
   "metadata": {},
   "outputs": [],
   "source": [
    "# Creating the potential\n",
    "G, M, bc = 1.0, 1.0, 1.0;\n",
    "model = NumericalIsochrone(G=G, M=M, bc=bc);\n",
    "analytic_model = AnalyticIsochrone(G=G, M=M, bc=bc);\n",
    "# Creating the parameter structure\n",
    "params = OrbitalParameters(rc=radial_scale(model));"
   ]
  },
  {
   "cell_type": "code",
   "execution_count": null,
   "metadata": {},
   "outputs": [],
   "source": [
    "# Points (line of constant semi-major axis)\n",
    "a = 1.0;\n",
    "ne = 200;\n",
    "emin, emax = 0., 1.;\n",
    "tabe = collect(LinRange(emin,emax,ne));"
   ]
  },
  {
   "cell_type": "code",
   "execution_count": null,
   "metadata": {},
   "outputs": [],
   "source": [
    "# Compute the values of the frequencies and store them\n",
    "tabΩ = zeros(2,ne)      # Storage for the numerical frequencies\n",
    "tabΩIso = zeros(2,ne)   # Storage for the analytic frequencies\n",
    "for j = 1:ne\n",
    "    # Compute the frequencies at (a,e)\n",
    "    Ω1, Ω2 = frequencies_from_ae(a, tabe[j], model, params)\n",
    "    Ω1true, Ω2true = frequencies_from_ae(a, tabe[j], analytic_model)\n",
    "    # Store them\n",
    "    tabΩ[1,j], tabΩ[2,j] = Ω1, Ω2\n",
    "    tabΩIso[1,j], tabΩIso[2,j] = Ω1true, Ω2true\n",
    "end"
   ]
  },
  {
   "cell_type": "code",
   "execution_count": null,
   "metadata": {},
   "outputs": [],
   "source": [
    "# Plot the curves\n",
    "p1 = plot(tabe, tabΩ[1,:], xlabel=L\"e\", ylabel=L\"\\Omega_1\", label=\"Numerical\")\n",
    "plot!(tabe, tabΩIso[1,:], label=\"True\")\n",
    "p2 = plot(tabe, tabΩ[2,:], xlabel=L\"e\", ylabel=L\"\\Omega_2\", label=false)\n",
    "plot!(tabe, tabΩIso[2,:], label=false)\n",
    "plΩ=plot(p1, p2; layout=(1,2), size=(1000,400), plot_title=\"Isochrone frequencies\", left_margin = 5Plots.mm, bottom_margin = 5Plots.mm)"
   ]
  },
  {
   "cell_type": "code",
   "execution_count": null,
   "metadata": {},
   "outputs": [],
   "source": [
    "########################################\n",
    "# Error on forward+backward mapping\n",
    "########################################\n",
    "# Semi-major axis and eccentricity domains\n",
    "na, ne = 100, 101\n",
    "aminexp, amaxexp = -2, 2\n",
    "emin, emax = 0.0, 1.0\n",
    "tabaexp = collect(LinRange(aminexp, amaxexp, na))\n",
    "taba = 10 .^tabaexp\n",
    "tabe = collect(LinRange(emin, emax, ne))\n",
    "\n",
    "errtabAE = zeros(na, ne)\n",
    "\n",
    "for ka = 1:na\n",
    "    loca = taba[ka] \n",
    "    for ke = 1:ne\n",
    "        e = tabe[ke]\n",
    "        # Forward mapping\n",
    "        Ω1, Ω2 = frequencies_from_ae(loca, e, model, params)\n",
    "        # Backward mapping\n",
    "        aback, eback = ae_from_frequencies(Ω1, Ω2, model, params)\n",
    "        # Error\n",
    "        errtabAE[ka,ke] = abs((aback - loca) / loca) + abs(eback - e)\n",
    "    end\n",
    "end \n",
    "\n",
    "# Error made on (a,e)->mapped variables->(a,e) in log scale\n",
    "plerr = heatmap(taba, tabe, transpose(log10.(errtabAE));\n",
    "    xscale=:log10,\n",
    "    colorbar_ticks=(-14:2:-4,string.(-14:2:-4)),\n",
    "    colormap=:viridis,xlabel=L\"a\", ylabel=L\"e\",\n",
    "    clim=(-14,-4),\n",
    "    colorbar_title=\" \\n\"*L\"\\log_{10} (\\mathrm{error})\",\n",
    "    title=\"Error on successive \\n forward/backward mappings\",\n",
    "    size=(400,400),\n",
    "    right_margin=7Plots.mm\n",
    ")"
   ]
  },
  {
   "cell_type": "markdown",
   "id": "4be6ab38",
   "metadata": {},
   "source": [
    "## Parameters"
   ]
  },
  {
   "cell_type": "code",
   "execution_count": null,
   "id": "47e1355b",
   "metadata": {},
   "outputs": [],
   "source": [
    "# Radii for frequency truncations\n",
    "rmin, rmax = 0., Inf\n",
    "# Tolerances / Taylor expansions\n",
    "EDGE = 0.01\n",
    "TOLECC = 0.01\n",
    "TOLA = 1.0\n",
    "NINT = 32\n",
    "\n",
    "params = OE.OrbitalParameters(Ω₀=Ω₀,rmin=rmin,rmax=rmax,\n",
    "                                            EDGE=EDGE,TOLA=TOLA,TOLECC=TOLECC,\n",
    "                                            NINT=NINT);"
   ]
  },
  {
   "cell_type": "markdown",
   "id": "ddd3632c",
   "metadata": {},
   "source": [
    "# Frequency computation"
   ]
  },
  {
   "cell_type": "markdown",
   "id": "860266cb",
   "metadata": {},
   "source": [
    "Frequency values along a constant eccentricity line. Example using the isochrone potential for which analytical expression of the frequencies are known. Comparing analytical and numerical results."
   ]
  },
  {
   "cell_type": "code",
   "execution_count": null,
   "id": "495e8e9f",
   "metadata": {},
   "outputs": [],
   "source": [
    "function FrequenciesE!(a::Float64,\n",
    "                      tabe::Vector{Float64},\n",
    "                      results::Array{Float64})\n",
    "    @assert size(results) == (2,length(tabe))\n",
    "    for j=1:ne\n",
    "        Ω1, Ω2 = OE.ComputeFrequenciesAE(ψ,dψ,d2ψ,a,tabe[j],params)\n",
    "        @inbounds results[1,j], results[2,j] = Ω1, Ω2\n",
    "    end\n",
    "end;\n",
    "function IsochroneFrequenciesE!(a::Float64,\n",
    "                      tabe::Vector{Float64},\n",
    "                      results::Array{Float64})\n",
    "    @assert size(results) == (2,length(tabe))\n",
    "    for j=1:ne\n",
    "        Ω1true, Ω2true = OE.IsochroneOmega12FromAE(a,tabe[j])\n",
    "        @inbounds results[1,j], results[2,j] = Ω1true, Ω2true\n",
    "    end\n",
    "end;"
   ]
  },
  {
   "cell_type": "code",
   "execution_count": null,
   "id": "ff2c25ba",
   "metadata": {},
   "outputs": [],
   "source": [
    "ne = 200;\n",
    "tabe = collect(LinRange(0.,1.,ne));\n",
    "tabΩ = zeros(2,ne);\n",
    "tabΩIso = zeros(2,ne);"
   ]
  },
  {
   "cell_type": "code",
   "execution_count": null,
   "id": "1031786c",
   "metadata": {},
   "outputs": [],
   "source": [
    "a = 1.0\n",
    "\n",
    "# Compute\n",
    "FrequenciesE!(a,tabe,tabΩ)\n",
    "IsochroneFrequenciesE!(a,tabe,tabΩIso)\n",
    "\n",
    "# Plot\n",
    "xlabelΩ = [\"e\" \"e\"]\n",
    "ylabelΩ = [\"Ω1\" \"Ω2\"]\n",
    "p1 = plot(tabe,tabΩ[1,:],xlabel=xlabelΩ[1],ylabel=ylabelΩ[1],label=\"Numerical\");\n",
    "plot!(tabe,tabΩIso[1,:],label=\"True\")\n",
    "p2 = plot(tabe,tabΩ[2,:],xlabel=xlabelΩ[2],ylabel=ylabelΩ[2],label=false);\n",
    "plot!(tabe,tabΩIso[2,:],label=false)\n",
    "plot(p1,p2,layout=(1,2),size=(900,300))"
   ]
  },
  {
   "cell_type": "markdown",
   "id": "b83b4cff",
   "metadata": {},
   "source": [
    "# Frequency derivatives computation"
   ]
  },
  {
   "cell_type": "markdown",
   "id": "554fe759",
   "metadata": {},
   "source": [
    "Frequency values along a constant eccentricity line. Example using the isochrone potential for which analytical expression of the frequencies are known. Comparing analytical and numerical results."
   ]
  },
  {
   "cell_type": "code",
   "execution_count": null,
   "id": "ae572dbd",
   "metadata": {},
   "outputs": [],
   "source": [
    "function FrequenciesDerivE!(a::Float64,\n",
    "                      tabe::Vector{Float64},\n",
    "                      results::Array{Float64})\n",
    "    @assert size(results) == (6,length(tabe))\n",
    "    for j=1:ne\n",
    "        Ω1, Ω2, ∂Ω1∂a, ∂Ω2∂a, ∂Ω1∂e, ∂Ω2∂e = OE.ComputeFrequenciesAEWithDeriv(ψ,dψ,d2ψ,a,tabe[j],params)\n",
    "        @inbounds results[1,j], results[2,j], results[3,j], results[4,j], results[5,j], results[6,j]= Ω1, Ω2, ∂Ω1∂a, ∂Ω2∂a, ∂Ω1∂e, ∂Ω2∂e\n",
    "    end\n",
    "end;"
   ]
  },
  {
   "cell_type": "code",
   "execution_count": null,
   "id": "a51297f5",
   "metadata": {},
   "outputs": [],
   "source": [
    "ne = 200;\n",
    "tabe = collect(LinRange(0.,1.,ne));\n",
    "tabderΩ = zeros(6,ne);"
   ]
  },
  {
   "cell_type": "code",
   "execution_count": null,
   "id": "90a60d33",
   "metadata": {},
   "outputs": [],
   "source": [
    "a = 1.0\n",
    "\n",
    "# Compute\n",
    "FrequenciesDerivE!(a,tabe,tabderΩ)\n",
    "\n",
    "# Plot\n",
    "xlabelderΩ = [\"\" \"\" \"\" \"\" \"e\" \"e\"]\n",
    "ylabelderΩ = [\"Ω1\" \"Ω2\" \"∂Ω1∂a\" \"∂Ω2∂a\" \"∂Ω1∂e\" \"∂Ω2∂e\"]\n",
    "plot(tabe,transpose(tabderΩ),layout=(3,2),xlabel=xlabelderΩ,ylabel=ylabelderΩ,legend=false,size=(900,600))"
   ]
  },
  {
   "cell_type": "markdown",
   "id": "b5c146a4",
   "metadata": {},
   "source": [
    "# Energy, angular momentum and derivatives computation"
   ]
  },
  {
   "cell_type": "code",
   "execution_count": null,
   "id": "cf66c220",
   "metadata": {},
   "outputs": [],
   "source": [
    "function ELDerivE!(a::Float64,\n",
    "                      tabe::Vector{Float64},\n",
    "                      results::Array{Float64})\n",
    "    @assert size(results) == (6,length(tabe))\n",
    "    for j=1:ne\n",
    "        E, L, ∂E∂a, ∂L∂a, ∂E∂e, ∂L∂e = OE.ComputeELAEWithDeriv(ψ,dψ,a,tabe[j],params)\n",
    "        @inbounds results[1,j], results[2,j], results[3,j], results[4,j], results[5,j], results[6,j]= E, L, ∂E∂a, ∂L∂a, ∂E∂e, ∂L∂e\n",
    "    end\n",
    "end;"
   ]
  },
  {
   "cell_type": "code",
   "execution_count": null,
   "id": "61d983f4",
   "metadata": {},
   "outputs": [],
   "source": [
    "ne = 200;\n",
    "tabe = collect(LinRange(0.,1.,ne));\n",
    "tabderEL = zeros(6,ne);"
   ]
  },
  {
   "cell_type": "code",
   "execution_count": null,
   "id": "d1049a26",
   "metadata": {},
   "outputs": [],
   "source": [
    "a = 1.0\n",
    "\n",
    "# Compute\n",
    "ELDerivE!(a,tabe,tabderEL)\n",
    "\n",
    "# Plot\n",
    "xlabelEL = [\"\" \"\" \"\" \"\" \"e\" \"e\"]\n",
    "ylabelEL = [\"E\" \"L\" \"∂E∂a\" \"∂L∂a\" \"∂E∂e\" \"∂L∂e\"]\n",
    "plot(tabe,transpose(tabderEL),layout=(3,2),xlabel=xlabelEL,ylabel=ylabelEL,legend=false,size=(900,600))"
   ]
  },
  {
   "cell_type": "markdown",
   "id": "bedc2cec",
   "metadata": {},
   "source": [
    "# Inversions"
   ]
  },
  {
   "cell_type": "code",
   "execution_count": null,
   "id": "21dab7ff",
   "metadata": {},
   "outputs": [],
   "source": [
    "# Containers\n",
    "na, ne = 100, 101;\n",
    "taba = zeros(Float64,na);\n",
    "tabe = zeros(Float64,ne);\n",
    "\n",
    "tabAE = zeros(Float64,2,na*ne);\n",
    "restabAE = zeros(Float64,2,na*ne);\n",
    "errtabAE = zeros(Float64,na,ne);\n",
    "\n",
    "tabInversion = zeros(Float64,2,na*ne);"
   ]
  },
  {
   "cell_type": "code",
   "execution_count": null,
   "id": "488777b3",
   "metadata": {},
   "outputs": [],
   "source": [
    "function InversionMapping!(FromAE::F0,ToAE::F1,amin,amax,emin,emax) where {F0 <: Function, F1 <: Function}\n",
    "    \n",
    "    for ka = 1:na\n",
    "        a = (ka-1)*(amax-amin)/(na-1) + amin\n",
    "        taba[ka] = a\n",
    "    end\n",
    "    for ke = 1:ne\n",
    "        e = (ke-1)*(emax-emin)/(ne-1) + emin\n",
    "        tabe[ke] = e\n",
    "    end\n",
    "    \n",
    "    count = 1\n",
    "    for ka = 1:na\n",
    "        a = taba[ka] \n",
    "        for ke = 1:ne\n",
    "            e = tabe[ke]\n",
    "            \n",
    "            map1, map2 = FromAE(a,e)\n",
    "            aback, eback = ToAE(map1,map2)\n",
    "            \n",
    "            tabAE[1,count], tabAE[2,count] = a, e \n",
    "            tabInversion[1,count], tabInversion[2,count] = map1,map2\n",
    "            restabAE[1,count], restabAE[2,count] = aback, eback\n",
    "            errtabAE[ka,ke] = abs((aback-a)/a) + abs(eback-e)\n",
    "            \n",
    "            count += 1\n",
    "        end\n",
    "    end\n",
    "end;\n",
    "function InversionMappingPlot(xlabel::String,ylabel::String,perm::Bool=false)\n",
    "    # Mapped space shape\n",
    "    k, l = perm ? (2, 1) : (1, 2)\n",
    "    p1 = scatter(tabInversion[k,:],tabInversion[l,:],xlabel=xlabel,ylabel=ylabel,legend=false,markersize=0.01)\n",
    "    # (a,e)->mapped variables->(a,e) result\n",
    "    p2 = scatter(restabAE[1,:],restabAE[2,:],xlabel=\"a\",ylabel=\"e\",legend=false,markersize=0.01)\n",
    "    # Error made on (a,e)->mapped variables->(a,e) in log scale\n",
    "    p3 = heatmap(taba,tabe,transpose(log10.(errtabAE)),xlabel=\"a\",ylabel=\"e\",legend=false)\n",
    "    plot(p1,p2,p3,layout=(1,3),size=(900,300))\n",
    "end;"
   ]
  },
  {
   "cell_type": "markdown",
   "id": "cc69217e",
   "metadata": {},
   "source": [
    "## (a,e) &harr; (E,L) "
   ]
  },
  {
   "cell_type": "code",
   "execution_count": null,
   "id": "e7dc740a",
   "metadata": {},
   "outputs": [],
   "source": [
    "function AEToELmapping!(amin,amax,emin,emax)\n",
    "    \n",
    "    fromae(a::Float64,e::Float64) = OE.ELFromAE(ψ,dψ,a,e,params)\n",
    "    toae(E::Float64,L::Float64) = OE.ComputeAEFromEL(ψ,dψ,E,L,params)\n",
    "    \n",
    "    InversionMapping!(fromae,toae,amin,amax,emin,emax)\n",
    "end;"
   ]
  },
  {
   "cell_type": "code",
   "execution_count": null,
   "id": "a1447516",
   "metadata": {},
   "outputs": [],
   "source": [
    "# Semi-major axis and eccentricity domains\n",
    "amin, amax = 0.1, 10.0\n",
    "emin, emax = 0.0, 1.0\n",
    "\n",
    "# Compute\n",
    "AEToELmapping!(amin,amax,emin,emax)\n",
    "\n",
    "# Plot\n",
    "InversionMappingPlot(\"E\",\"L\",true)"
   ]
  },
  {
   "cell_type": "markdown",
   "id": "d90d7887",
   "metadata": {},
   "source": [
    "## (a,e) &harr; (Jr,L) "
   ]
  },
  {
   "cell_type": "code",
   "execution_count": null,
   "id": "ebbf1a7a",
   "metadata": {},
   "outputs": [],
   "source": [
    "function AEToActionsmapping!(amin,amax,emin,emax)\n",
    "    \n",
    "    fromae(a::Float64,e::Float64) = OE.ComputeActionsAE(ψ,dψ,a,e,params)\n",
    "    toae(J::Float64,L::Float64) = OE.ComputeAEFromActions(ψ,dψ,J,L,params)\n",
    "    \n",
    "    InversionMapping!(fromae,toae,amin,amax,emin,emax)\n",
    "end;"
   ]
  },
  {
   "cell_type": "code",
   "execution_count": null,
   "id": "72175fb5",
   "metadata": {},
   "outputs": [],
   "source": [
    "# Semi-major axis and eccentricity domains\n",
    "amin, amax = 0.1, 10.0\n",
    "emin, emax = 0.0, 1.0\n",
    "\n",
    "# Compute\n",
    "AEToActionsmapping!(amin,amax,emin,emax)\n",
    "\n",
    "# Plot\n",
    "InversionMappingPlot(\"J\",\"L\",true)"
   ]
  },
  {
   "cell_type": "markdown",
   "id": "71e9e4d8",
   "metadata": {},
   "source": [
    "## (a,e) &harr; ($\\Omega$1,$\\Omega$2) "
   ]
  },
  {
   "cell_type": "code",
   "execution_count": null,
   "id": "99b73ec0",
   "metadata": {},
   "outputs": [],
   "source": [
    "function AEToFrequenciesmapping!(amin,amax,emin,emax)\n",
    "    \n",
    "    fromae(a::Float64,e::Float64) = OE.ComputeFrequenciesAE(ψ,dψ,d2ψ,a,e,params)\n",
    "    toae(Ω1::Float64,Ω2::Float64) = OE.ComputeAEFromFrequencies(ψ,dψ,d2ψ,Ω1,Ω2,params)\n",
    "    \n",
    "    InversionMapping!(fromae,toae,amin,amax,emin,emax)\n",
    "end;"
   ]
  },
  {
   "cell_type": "code",
   "execution_count": null,
   "id": "6aff9c5d",
   "metadata": {},
   "outputs": [],
   "source": [
    "# Semi-major axis and eccentricity domains\n",
    "amin, amax = 0.1, 10.0\n",
    "emin, emax = 0.0, 1.0\n",
    "\n",
    "# Compute\n",
    "AEToFrequenciesmapping!(amin,amax,emin,emax)\n",
    "\n",
    "# Plot\n",
    "InversionMappingPlot(\"Ω1\",\"Ω2\",true)"
   ]
  },
  {
   "cell_type": "markdown",
   "id": "ccdc1778",
   "metadata": {},
   "source": [
    "# Resonance variables"
   ]
  },
  {
   "cell_type": "code",
   "execution_count": null,
   "id": "e1fed042",
   "metadata": {},
   "outputs": [],
   "source": [
    "# Containers\n",
    "nu, nv = 100, 101;\n",
    "tabu = collect(LinRange(-1.0,1.0,nu))\n",
    "tabvp = collect(LinRange(0.,1.0,nv))\n",
    "        \n",
    "nα, nβ = nu, nv;\n",
    "tabα = zeros(Float64,nα);\n",
    "tabβ = zeros(Float64,nβ);\n",
    "\n",
    "tabvminvmax = zeros(Float64,2,nu);\n",
    "tabUV = zeros(Float64,2,nu*nv);\n",
    "tabαβ = zeros(Float64,2,nα*nβ);\n",
    "tabnΩ = zeros(Float64,nα,nβ);"
   ]
  },
  {
   "cell_type": "code",
   "execution_count": null,
   "id": "ac416fdc",
   "metadata": {},
   "outputs": [],
   "source": [
    "# Function to tweak the point distribution along resonance line (v∝αⁿ)\n",
    "function vFromvp(vp::Float64,vmin::Float64,vmax::Float64,vmapn::Int64=2)\n",
    "    return (vmax-vmin)*(vp^vmapn)+vmin\n",
    "end;"
   ]
  },
  {
   "cell_type": "markdown",
   "id": "26871801",
   "metadata": {},
   "source": [
    "## Resonances lines"
   ]
  },
  {
   "cell_type": "code",
   "execution_count": null,
   "id": "bddf74e9",
   "metadata": {},
   "outputs": [],
   "source": [
    "function reslines(n1::Int64,n2::Int64)\n",
    "    \n",
    "    αmin, αmax = OE.αminmax(dψ,d2ψ,params.rmin,params.rmax,params.Ω₀)\n",
    "    βc(αc::Float64)::Float64 = OE.βcirc(αc,dψ,d2ψ,params)\n",
    "    βmin, βmax = 0.5, βc(αmin)\n",
    "    \n",
    "    for kα = 1:nα\n",
    "        α = (kα-1)*(αmax-αmin)/(nα-1) + αmin\n",
    "        tabα[kα] = α\n",
    "    end\n",
    "    for kβ = 1:nβ\n",
    "        β = (kβ-1)*(βmax-βmin)/(nβ-1) + βmin\n",
    "        tabβ[kβ] = β\n",
    "    end\n",
    "    \n",
    "    for kα = 1:nα\n",
    "        α = tabα[kα]\n",
    "        for kβ = 1:nβ\n",
    "            β = tabβ[kβ]\n",
    "            tabnΩ[kα,kβ] = (0.5 <= β <= βc(α)) ? n1*α + n2*α*β : Inf\n",
    "        end\n",
    "    end\n",
    "end;"
   ]
  },
  {
   "cell_type": "code",
   "execution_count": null,
   "id": "a6b7541a",
   "metadata": {},
   "outputs": [],
   "source": [
    "# Resonance number\n",
    "n1, n2 = -2, 2;\n",
    "\n",
    "# Compute\n",
    "reslines(n1,n2)\n",
    "\n",
    "# Plot\n",
    "contourf(tabα,tabβ,transpose(tabnΩ),levels=25,xlabel=\"α\",ylabel=\"β\",legend=false,size=(600,300))"
   ]
  },
  {
   "cell_type": "markdown",
   "id": "0eff6e61",
   "metadata": {},
   "source": [
    "## (u,v) &rarr; ($\\alpha$,$\\beta$)"
   ]
  },
  {
   "cell_type": "code",
   "execution_count": null,
   "id": "666b6beb",
   "metadata": {},
   "outputs": [],
   "source": [
    "function UVToαβmapping(n1::Int64,n2::Int64,vmapn::Int64=2)\n",
    "    \n",
    "    ωmin, ωmax = OE.Findωminωmax(n1,n2,dψ,d2ψ,params)\n",
    "    \n",
    "    count = 1\n",
    "    for ku = 1:nu\n",
    "        \n",
    "        u = tabu[ku]\n",
    "        vmin,vmax = OE.FindVminVmax(u,n1,n2,dψ,d2ψ,ωmin,ωmax,params)\n",
    "        tabvminvmax[1,ku], tabvminvmax[2,ku] = vmin, vmax\n",
    "        \n",
    "        for kvp = 1:nv\n",
    "            vp = tabvp[kvp]\n",
    "            \n",
    "            v = vFromvp(vp,vmin,vmax,vmapn)\n",
    "            \n",
    "            α, β = OE.αβFromUV(u,v,n1,n2,ωmin,ωmax)\n",
    "            \n",
    "            tabUV[1,count], tabUV[2,count] = u, v \n",
    "            tabαβ[1,count], tabαβ[2,count] = α, β\n",
    "            \n",
    "            count += 1\n",
    "        end\n",
    "    end\n",
    "end;"
   ]
  },
  {
   "cell_type": "code",
   "execution_count": null,
   "id": "0ea3d3f2",
   "metadata": {},
   "outputs": [],
   "source": [
    "# Resonance number\n",
    "n1, n2 = -2, 2;\n",
    "# Point distribution along resonance line (v∝αⁿ)\n",
    "vmapn = 1\n",
    "\n",
    "# Compute\n",
    "UVToαβmapping(n1,n2,vmapn)\n",
    "\n",
    "# Plot\n",
    "# u,v space shape\n",
    "p1 = scatter(tabUV[1,:],tabUV[2,:],markersize=0.01,xlabel=\"u\",ylabel=\"v\",legend=false)\n",
    "# α,β space shape\n",
    "p2 = scatter(tabαβ[1,:],tabαβ[2,:],markersize=0.01,xlabel=\"α\",ylabel=\"β\",legend=false)\n",
    "plot(p1,p2,layout=(1,2),size=(900,300))"
   ]
  },
  {
   "cell_type": "markdown",
   "id": "01387b9b",
   "metadata": {},
   "source": [
    "## ($\\alpha$,$\\beta$) &rarr; (u,v) "
   ]
  },
  {
   "cell_type": "code",
   "execution_count": null,
   "id": "8d39d0ec",
   "metadata": {},
   "outputs": [],
   "source": [
    "function αβToUVmapping(n1::Int64,n2::Int64)\n",
    "    \n",
    "    αmin, αmax = OE.αminmax(dψ,d2ψ,params.rmin,params.rmax,params.Ω₀)\n",
    "    ωmin, ωmax = OE.Findωminωmax(n1,n2,dψ,d2ψ,params)\n",
    "    βc(αc::Float64)::Float64 = OE.βcirc(αc,dψ,d2ψ,params)\n",
    "    \n",
    "    for kα = 1:nα\n",
    "        α = (kα-1)*(αmax-αmin)/(nα-1) + αmin\n",
    "        tabα[kα] = α\n",
    "    end\n",
    "\n",
    "    count = 1\n",
    "    for kα = 1:nα\n",
    "        α = tabα[kα]\n",
    "        βmin, βmax = 0.5, βc(α)\n",
    "        for kβ = 1:nβ\n",
    "            β = (kβ-1)*(βmax-βmin)/(nβ-1) + βmin\n",
    "\n",
    "            u, v = OE.UVFromαβ(α,β,n1,n2,ωmin,ωmax)\n",
    "            \n",
    "            tabUV[1,count], tabUV[2,count] = u, v \n",
    "            tabαβ[1,count], tabαβ[2,count] = α, β\n",
    "            \n",
    "            count += 1\n",
    "        end\n",
    "    end\n",
    "end;"
   ]
  },
  {
   "cell_type": "code",
   "execution_count": null,
   "id": "51898c64",
   "metadata": {},
   "outputs": [],
   "source": [
    "# Resonance number\n",
    "n1, n2 = -2, 2;\n",
    "\n",
    "# Compute\n",
    "αβToUVmapping(n1,n2)\n",
    "\n",
    "# Plot\n",
    "# α,β space shape\n",
    "p1 = scatter(tabαβ[1,:],tabαβ[2,:],markersize=0.01,xlabel=\"α\",ylabel=\"β\",legend=false)\n",
    "# u,v space shape\n",
    "p2 = scatter(tabUV[1,:],tabUV[2,:],markersize=0.01,xlabel=\"u\",ylabel=\"v\",legend=false)\n",
    "\n",
    "plot(p1,p2,layout=(1,2),size=(900,300))"
   ]
  }
 ],
 "metadata": {
  "@webio": {
   "lastCommId": null,
   "lastKernelId": null
  },
  "kernelspec": {
   "display_name": "Julia 1.7.1",
   "language": "julia",
   "name": "julia-1.7"
  },
  "language_info": {
   "file_extension": ".jl",
   "mimetype": "application/julia",
   "name": "julia",
   "version": "1.7.1"
  }
 },
 "nbformat": 4,
 "nbformat_minor": 5
}
